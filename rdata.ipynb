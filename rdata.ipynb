{
 "cells": [
  {
   "cell_type": "markdown",
   "metadata": {},
   "source": [
    "# R Data Conversion\n",
    "\n",
    "This Jupyter notebook aggregates and exports the data from [Warnat-Herresthal et al. (2020)](https://github.com/schultzelab/aml_classifer).\n",
    "\n",
    "Before running the cells in this notebook, the R data must first be obtained from the authors' [Docker image](https://hub.docker.com/r/schultzelab/aml_classifier) by running the following command in a shell:\n",
    "\n",
    "```\n",
    "$ docker compose up\n",
    "```"
   ]
  },
  {
   "cell_type": "code",
   "execution_count": 1,
   "metadata": {
    "vscode": {
     "languageId": "r"
    }
   },
   "outputs": [
    {
     "data": {
      "text/html": [
       "<style>\n",
       ".list-inline {list-style: none; margin:0; padding: 0}\n",
       ".list-inline>li {display: inline-block}\n",
       ".list-inline>li:not(:last-child)::after {content: \"\\00b7\"; padding: 0 .5ex}\n",
       "</style>\n",
       "<ol class=list-inline><li>'data.1'</li><li>'data.2'</li><li>'data.3'</li><li>'info.1'</li><li>'info.2'</li><li>'info.3'</li></ol>\n"
      ],
      "text/latex": [
       "\\begin{enumerate*}\n",
       "\\item 'data.1'\n",
       "\\item 'data.2'\n",
       "\\item 'data.3'\n",
       "\\item 'info.1'\n",
       "\\item 'info.2'\n",
       "\\item 'info.3'\n",
       "\\end{enumerate*}\n"
      ],
      "text/markdown": [
       "1. 'data.1'\n",
       "2. 'data.2'\n",
       "3. 'data.3'\n",
       "4. 'info.1'\n",
       "5. 'info.2'\n",
       "6. 'info.3'\n",
       "\n",
       "\n"
      ],
      "text/plain": [
       "[1] \"data.1\" \"data.2\" \"data.3\" \"info.1\" \"info.2\" \"info.3\""
      ]
     },
     "metadata": {},
     "output_type": "display_data"
    }
   ],
   "source": [
    "# Import R data\n",
    "load(file = 'data/Datasets.RData')\n",
    "ls()"
   ]
  },
  {
   "cell_type": "code",
   "execution_count": 2,
   "metadata": {
    "vscode": {
     "languageId": "r"
    }
   },
   "outputs": [
    {
     "data": {
      "text/html": [
       "'data.1:'"
      ],
      "text/latex": [
       "'data.1:'"
      ],
      "text/markdown": [
       "'data.1:'"
      ],
      "text/plain": [
       "[1] \"data.1:\""
      ]
     },
     "metadata": {},
     "output_type": "display_data"
    },
    {
     "data": {
      "text/html": [
       "<style>\n",
       ".list-inline {list-style: none; margin:0; padding: 0}\n",
       ".list-inline>li {display: inline-block}\n",
       ".list-inline>li:not(:last-child)::after {content: \"\\00b7\"; padding: 0 .5ex}\n",
       "</style>\n",
       "<ol class=list-inline><li>'matrix'</li><li>'array'</li></ol>\n"
      ],
      "text/latex": [
       "\\begin{enumerate*}\n",
       "\\item 'matrix'\n",
       "\\item 'array'\n",
       "\\end{enumerate*}\n"
      ],
      "text/markdown": [
       "1. 'matrix'\n",
       "2. 'array'\n",
       "\n",
       "\n"
      ],
      "text/plain": [
       "[1] \"matrix\" \"array\" "
      ]
     },
     "metadata": {},
     "output_type": "display_data"
    },
    {
     "data": {
      "text/html": [
       "<style>\n",
       ".list-inline {list-style: none; margin:0; padding: 0}\n",
       ".list-inline>li {display: inline-block}\n",
       ".list-inline>li:not(:last-child)::after {content: \"\\00b7\"; padding: 0 .5ex}\n",
       "</style>\n",
       "<ol class=list-inline><li>12708</li><li>2500</li></ol>\n"
      ],
      "text/latex": [
       "\\begin{enumerate*}\n",
       "\\item 12708\n",
       "\\item 2500\n",
       "\\end{enumerate*}\n"
      ],
      "text/markdown": [
       "1. 12708\n",
       "2. 2500\n",
       "\n",
       "\n"
      ],
      "text/plain": [
       "[1] 12708  2500"
      ]
     },
     "metadata": {},
     "output_type": "display_data"
    },
    {
     "data": {
      "text/html": [
       "<table class=\"dataframe\">\n",
       "<caption>A matrix: 6 × 2500 of type dbl</caption>\n",
       "<thead>\n",
       "\t<tr><th></th><th scope=col>AHW_ALL_BA_025919_13_A_PZ.CEL</th><th scope=col>AHW_ALL_BA_032751_71_A_PZ.CEL</th><th scope=col>AHW_ALL_BN_022495_7_A_PZ.CEL</th><th scope=col>AHW_ALL_MLL_031351_13_A_PZ.CEL</th><th scope=col>AHW_ALL_MLL_036187_80_A_PZ.CEL</th><th scope=col>AHW_ALL_Ph_030031_32_A_PZ.CEL</th><th scope=col>AHW_ALL_Ph_032683_15_A_PZ.CEL</th><th scope=col>AHW_ALL_Ph_035655_63_A_PZ.CEL</th><th scope=col>AHW_ALL_TA_025336_26_A_PZ.CEL</th><th scope=col>AHW_ALL_TA_032725_16_A_PZ.CEL</th><th scope=col>⋯</th><th scope=col>GSM924007_ALK_MDS_RAEC_022687_38_A_PZ.CEL</th><th scope=col>GSM924008_ALK_MDS_RAEC_034886_40_A_PZ.CEL</th><th scope=col>GSM924009_ALK_MDS_RAEO_001885_44_A_PZ.CEL</th><th scope=col>GSM924010_ALK_MDS_RAEO_001973_45_A_PZ.CEL</th><th scope=col>GSM924011_ALK_MDS_RAEO_002508_76_A_PZ.CEL</th><th scope=col>GSM924013_ALK_MDS_RAEO_031238_53_A_PZ.CEL</th><th scope=col>GSM924014_ALK_MDS_RAEO_031526_60_A_PZ.CEL</th><th scope=col>GSM924015_ALK_MDS_RAEO_034350_16_A_PZ.CEL</th><th scope=col>GSM924016_ALK_MDS_RAEO_035203_14_A_PZ.CEL</th><th scope=col>GSM924017_ALK_MDS_RAEO_040105_7_A_PZ.CEL</th></tr>\n",
       "</thead>\n",
       "<tbody>\n",
       "\t<tr><th scope=row>PAX8</th><td>9.221573</td><td> 8.524435</td><td> 8.606060</td><td> 8.841501</td><td> 8.882826</td><td>9.011544</td><td> 8.975590</td><td> 8.940409</td><td> 9.342263</td><td>8.966156</td><td>⋯</td><td>8.548096</td><td>8.458280</td><td>8.687024</td><td> 8.531356</td><td>8.808418</td><td>8.703484</td><td>9.304286</td><td> 8.775102</td><td>8.625841</td><td>8.632727</td></tr>\n",
       "\t<tr><th scope=row>CCL5</th><td>7.990144</td><td> 6.648112</td><td> 6.382602</td><td> 6.469583</td><td> 8.332415</td><td>6.830385</td><td> 8.753525</td><td> 6.370298</td><td> 6.971186</td><td>7.302477</td><td>⋯</td><td>7.218904</td><td>8.956285</td><td>7.188509</td><td> 7.502036</td><td>7.077740</td><td>8.526308</td><td>9.071024</td><td> 7.473359</td><td>7.967037</td><td>8.728520</td></tr>\n",
       "\t<tr><th scope=row>MMP14</th><td>8.391732</td><td> 8.183514</td><td> 7.909023</td><td> 8.105744</td><td> 7.820992</td><td>7.859977</td><td> 8.128827</td><td> 7.956449</td><td> 8.285775</td><td>8.335117</td><td>⋯</td><td>7.632565</td><td>7.855289</td><td>7.683088</td><td> 7.825051</td><td>7.808342</td><td>7.715343</td><td>8.333734</td><td> 7.902804</td><td>7.981485</td><td>7.684523</td></tr>\n",
       "\t<tr><th scope=row>DTX2P1-UPK3BP1-PMS2P11</th><td>9.280415</td><td> 8.798847</td><td> 8.948909</td><td> 8.941517</td><td> 8.725958</td><td>8.975915</td><td> 9.130401</td><td> 8.997386</td><td> 9.294638</td><td>9.094800</td><td>⋯</td><td>8.944574</td><td>8.732182</td><td>9.188813</td><td> 9.059932</td><td>9.182124</td><td>8.757411</td><td>9.187252</td><td> 8.861302</td><td>8.668579</td><td>8.991182</td></tr>\n",
       "\t<tr><th scope=row>BAD</th><td>5.579486</td><td> 5.934621</td><td> 5.646312</td><td> 5.899868</td><td> 5.651731</td><td>5.798776</td><td> 5.849792</td><td> 6.002240</td><td> 5.642667</td><td>5.768286</td><td>⋯</td><td>5.992471</td><td>6.113847</td><td>6.193126</td><td> 5.816396</td><td>6.021704</td><td>5.976942</td><td>5.948137</td><td> 5.904270</td><td>5.951656</td><td>6.100816</td></tr>\n",
       "\t<tr><th scope=row>PRPF8</th><td>9.587992</td><td>10.605028</td><td>10.367226</td><td>10.493261</td><td>10.684440</td><td>9.850415</td><td>10.068460</td><td>10.259652</td><td>10.168444</td><td>9.143968</td><td>⋯</td><td>8.591656</td><td>8.836844</td><td>9.707603</td><td>10.027859</td><td>9.821617</td><td>9.937550</td><td>9.299585</td><td>10.448940</td><td>9.823071</td><td>9.656752</td></tr>\n",
       "</tbody>\n",
       "</table>\n"
      ],
      "text/latex": [
       "A matrix: 6 × 2500 of type dbl\n",
       "\\begin{tabular}{r|lllllllllllllllllllll}\n",
       "  & AHW\\_ALL\\_BA\\_025919\\_13\\_A\\_PZ.CEL & AHW\\_ALL\\_BA\\_032751\\_71\\_A\\_PZ.CEL & AHW\\_ALL\\_BN\\_022495\\_7\\_A\\_PZ.CEL & AHW\\_ALL\\_MLL\\_031351\\_13\\_A\\_PZ.CEL & AHW\\_ALL\\_MLL\\_036187\\_80\\_A\\_PZ.CEL & AHW\\_ALL\\_Ph\\_030031\\_32\\_A\\_PZ.CEL & AHW\\_ALL\\_Ph\\_032683\\_15\\_A\\_PZ.CEL & AHW\\_ALL\\_Ph\\_035655\\_63\\_A\\_PZ.CEL & AHW\\_ALL\\_TA\\_025336\\_26\\_A\\_PZ.CEL & AHW\\_ALL\\_TA\\_032725\\_16\\_A\\_PZ.CEL & ⋯ & GSM924007\\_ALK\\_MDS\\_RAEC\\_022687\\_38\\_A\\_PZ.CEL & GSM924008\\_ALK\\_MDS\\_RAEC\\_034886\\_40\\_A\\_PZ.CEL & GSM924009\\_ALK\\_MDS\\_RAEO\\_001885\\_44\\_A\\_PZ.CEL & GSM924010\\_ALK\\_MDS\\_RAEO\\_001973\\_45\\_A\\_PZ.CEL & GSM924011\\_ALK\\_MDS\\_RAEO\\_002508\\_76\\_A\\_PZ.CEL & GSM924013\\_ALK\\_MDS\\_RAEO\\_031238\\_53\\_A\\_PZ.CEL & GSM924014\\_ALK\\_MDS\\_RAEO\\_031526\\_60\\_A\\_PZ.CEL & GSM924015\\_ALK\\_MDS\\_RAEO\\_034350\\_16\\_A\\_PZ.CEL & GSM924016\\_ALK\\_MDS\\_RAEO\\_035203\\_14\\_A\\_PZ.CEL & GSM924017\\_ALK\\_MDS\\_RAEO\\_040105\\_7\\_A\\_PZ.CEL\\\\\n",
       "\\hline\n",
       "\tPAX8 & 9.221573 &  8.524435 &  8.606060 &  8.841501 &  8.882826 & 9.011544 &  8.975590 &  8.940409 &  9.342263 & 8.966156 & ⋯ & 8.548096 & 8.458280 & 8.687024 &  8.531356 & 8.808418 & 8.703484 & 9.304286 &  8.775102 & 8.625841 & 8.632727\\\\\n",
       "\tCCL5 & 7.990144 &  6.648112 &  6.382602 &  6.469583 &  8.332415 & 6.830385 &  8.753525 &  6.370298 &  6.971186 & 7.302477 & ⋯ & 7.218904 & 8.956285 & 7.188509 &  7.502036 & 7.077740 & 8.526308 & 9.071024 &  7.473359 & 7.967037 & 8.728520\\\\\n",
       "\tMMP14 & 8.391732 &  8.183514 &  7.909023 &  8.105744 &  7.820992 & 7.859977 &  8.128827 &  7.956449 &  8.285775 & 8.335117 & ⋯ & 7.632565 & 7.855289 & 7.683088 &  7.825051 & 7.808342 & 7.715343 & 8.333734 &  7.902804 & 7.981485 & 7.684523\\\\\n",
       "\tDTX2P1-UPK3BP1-PMS2P11 & 9.280415 &  8.798847 &  8.948909 &  8.941517 &  8.725958 & 8.975915 &  9.130401 &  8.997386 &  9.294638 & 9.094800 & ⋯ & 8.944574 & 8.732182 & 9.188813 &  9.059932 & 9.182124 & 8.757411 & 9.187252 &  8.861302 & 8.668579 & 8.991182\\\\\n",
       "\tBAD & 5.579486 &  5.934621 &  5.646312 &  5.899868 &  5.651731 & 5.798776 &  5.849792 &  6.002240 &  5.642667 & 5.768286 & ⋯ & 5.992471 & 6.113847 & 6.193126 &  5.816396 & 6.021704 & 5.976942 & 5.948137 &  5.904270 & 5.951656 & 6.100816\\\\\n",
       "\tPRPF8 & 9.587992 & 10.605028 & 10.367226 & 10.493261 & 10.684440 & 9.850415 & 10.068460 & 10.259652 & 10.168444 & 9.143968 & ⋯ & 8.591656 & 8.836844 & 9.707603 & 10.027859 & 9.821617 & 9.937550 & 9.299585 & 10.448940 & 9.823071 & 9.656752\\\\\n",
       "\\end{tabular}\n"
      ],
      "text/markdown": [
       "\n",
       "A matrix: 6 × 2500 of type dbl\n",
       "\n",
       "| <!--/--> | AHW_ALL_BA_025919_13_A_PZ.CEL | AHW_ALL_BA_032751_71_A_PZ.CEL | AHW_ALL_BN_022495_7_A_PZ.CEL | AHW_ALL_MLL_031351_13_A_PZ.CEL | AHW_ALL_MLL_036187_80_A_PZ.CEL | AHW_ALL_Ph_030031_32_A_PZ.CEL | AHW_ALL_Ph_032683_15_A_PZ.CEL | AHW_ALL_Ph_035655_63_A_PZ.CEL | AHW_ALL_TA_025336_26_A_PZ.CEL | AHW_ALL_TA_032725_16_A_PZ.CEL | ⋯ | GSM924007_ALK_MDS_RAEC_022687_38_A_PZ.CEL | GSM924008_ALK_MDS_RAEC_034886_40_A_PZ.CEL | GSM924009_ALK_MDS_RAEO_001885_44_A_PZ.CEL | GSM924010_ALK_MDS_RAEO_001973_45_A_PZ.CEL | GSM924011_ALK_MDS_RAEO_002508_76_A_PZ.CEL | GSM924013_ALK_MDS_RAEO_031238_53_A_PZ.CEL | GSM924014_ALK_MDS_RAEO_031526_60_A_PZ.CEL | GSM924015_ALK_MDS_RAEO_034350_16_A_PZ.CEL | GSM924016_ALK_MDS_RAEO_035203_14_A_PZ.CEL | GSM924017_ALK_MDS_RAEO_040105_7_A_PZ.CEL |\n",
       "|---|---|---|---|---|---|---|---|---|---|---|---|---|---|---|---|---|---|---|---|---|---|\n",
       "| PAX8 | 9.221573 |  8.524435 |  8.606060 |  8.841501 |  8.882826 | 9.011544 |  8.975590 |  8.940409 |  9.342263 | 8.966156 | ⋯ | 8.548096 | 8.458280 | 8.687024 |  8.531356 | 8.808418 | 8.703484 | 9.304286 |  8.775102 | 8.625841 | 8.632727 |\n",
       "| CCL5 | 7.990144 |  6.648112 |  6.382602 |  6.469583 |  8.332415 | 6.830385 |  8.753525 |  6.370298 |  6.971186 | 7.302477 | ⋯ | 7.218904 | 8.956285 | 7.188509 |  7.502036 | 7.077740 | 8.526308 | 9.071024 |  7.473359 | 7.967037 | 8.728520 |\n",
       "| MMP14 | 8.391732 |  8.183514 |  7.909023 |  8.105744 |  7.820992 | 7.859977 |  8.128827 |  7.956449 |  8.285775 | 8.335117 | ⋯ | 7.632565 | 7.855289 | 7.683088 |  7.825051 | 7.808342 | 7.715343 | 8.333734 |  7.902804 | 7.981485 | 7.684523 |\n",
       "| DTX2P1-UPK3BP1-PMS2P11 | 9.280415 |  8.798847 |  8.948909 |  8.941517 |  8.725958 | 8.975915 |  9.130401 |  8.997386 |  9.294638 | 9.094800 | ⋯ | 8.944574 | 8.732182 | 9.188813 |  9.059932 | 9.182124 | 8.757411 | 9.187252 |  8.861302 | 8.668579 | 8.991182 |\n",
       "| BAD | 5.579486 |  5.934621 |  5.646312 |  5.899868 |  5.651731 | 5.798776 |  5.849792 |  6.002240 |  5.642667 | 5.768286 | ⋯ | 5.992471 | 6.113847 | 6.193126 |  5.816396 | 6.021704 | 5.976942 | 5.948137 |  5.904270 | 5.951656 | 6.100816 |\n",
       "| PRPF8 | 9.587992 | 10.605028 | 10.367226 | 10.493261 | 10.684440 | 9.850415 | 10.068460 | 10.259652 | 10.168444 | 9.143968 | ⋯ | 8.591656 | 8.836844 | 9.707603 | 10.027859 | 9.821617 | 9.937550 | 9.299585 | 10.448940 | 9.823071 | 9.656752 |\n",
       "\n"
      ],
      "text/plain": [
       "                       AHW_ALL_BA_025919_13_A_PZ.CEL\n",
       "PAX8                   9.221573                     \n",
       "CCL5                   7.990144                     \n",
       "MMP14                  8.391732                     \n",
       "DTX2P1-UPK3BP1-PMS2P11 9.280415                     \n",
       "BAD                    5.579486                     \n",
       "PRPF8                  9.587992                     \n",
       "                       AHW_ALL_BA_032751_71_A_PZ.CEL\n",
       "PAX8                    8.524435                    \n",
       "CCL5                    6.648112                    \n",
       "MMP14                   8.183514                    \n",
       "DTX2P1-UPK3BP1-PMS2P11  8.798847                    \n",
       "BAD                     5.934621                    \n",
       "PRPF8                  10.605028                    \n",
       "                       AHW_ALL_BN_022495_7_A_PZ.CEL\n",
       "PAX8                    8.606060                   \n",
       "CCL5                    6.382602                   \n",
       "MMP14                   7.909023                   \n",
       "DTX2P1-UPK3BP1-PMS2P11  8.948909                   \n",
       "BAD                     5.646312                   \n",
       "PRPF8                  10.367226                   \n",
       "                       AHW_ALL_MLL_031351_13_A_PZ.CEL\n",
       "PAX8                    8.841501                     \n",
       "CCL5                    6.469583                     \n",
       "MMP14                   8.105744                     \n",
       "DTX2P1-UPK3BP1-PMS2P11  8.941517                     \n",
       "BAD                     5.899868                     \n",
       "PRPF8                  10.493261                     \n",
       "                       AHW_ALL_MLL_036187_80_A_PZ.CEL\n",
       "PAX8                    8.882826                     \n",
       "CCL5                    8.332415                     \n",
       "MMP14                   7.820992                     \n",
       "DTX2P1-UPK3BP1-PMS2P11  8.725958                     \n",
       "BAD                     5.651731                     \n",
       "PRPF8                  10.684440                     \n",
       "                       AHW_ALL_Ph_030031_32_A_PZ.CEL\n",
       "PAX8                   9.011544                     \n",
       "CCL5                   6.830385                     \n",
       "MMP14                  7.859977                     \n",
       "DTX2P1-UPK3BP1-PMS2P11 8.975915                     \n",
       "BAD                    5.798776                     \n",
       "PRPF8                  9.850415                     \n",
       "                       AHW_ALL_Ph_032683_15_A_PZ.CEL\n",
       "PAX8                    8.975590                    \n",
       "CCL5                    8.753525                    \n",
       "MMP14                   8.128827                    \n",
       "DTX2P1-UPK3BP1-PMS2P11  9.130401                    \n",
       "BAD                     5.849792                    \n",
       "PRPF8                  10.068460                    \n",
       "                       AHW_ALL_Ph_035655_63_A_PZ.CEL\n",
       "PAX8                    8.940409                    \n",
       "CCL5                    6.370298                    \n",
       "MMP14                   7.956449                    \n",
       "DTX2P1-UPK3BP1-PMS2P11  8.997386                    \n",
       "BAD                     6.002240                    \n",
       "PRPF8                  10.259652                    \n",
       "                       AHW_ALL_TA_025336_26_A_PZ.CEL\n",
       "PAX8                    9.342263                    \n",
       "CCL5                    6.971186                    \n",
       "MMP14                   8.285775                    \n",
       "DTX2P1-UPK3BP1-PMS2P11  9.294638                    \n",
       "BAD                     5.642667                    \n",
       "PRPF8                  10.168444                    \n",
       "                       AHW_ALL_TA_032725_16_A_PZ.CEL ⋯\n",
       "PAX8                   8.966156                      ⋯\n",
       "CCL5                   7.302477                      ⋯\n",
       "MMP14                  8.335117                      ⋯\n",
       "DTX2P1-UPK3BP1-PMS2P11 9.094800                      ⋯\n",
       "BAD                    5.768286                      ⋯\n",
       "PRPF8                  9.143968                      ⋯\n",
       "                       GSM924007_ALK_MDS_RAEC_022687_38_A_PZ.CEL\n",
       "PAX8                   8.548096                                 \n",
       "CCL5                   7.218904                                 \n",
       "MMP14                  7.632565                                 \n",
       "DTX2P1-UPK3BP1-PMS2P11 8.944574                                 \n",
       "BAD                    5.992471                                 \n",
       "PRPF8                  8.591656                                 \n",
       "                       GSM924008_ALK_MDS_RAEC_034886_40_A_PZ.CEL\n",
       "PAX8                   8.458280                                 \n",
       "CCL5                   8.956285                                 \n",
       "MMP14                  7.855289                                 \n",
       "DTX2P1-UPK3BP1-PMS2P11 8.732182                                 \n",
       "BAD                    6.113847                                 \n",
       "PRPF8                  8.836844                                 \n",
       "                       GSM924009_ALK_MDS_RAEO_001885_44_A_PZ.CEL\n",
       "PAX8                   8.687024                                 \n",
       "CCL5                   7.188509                                 \n",
       "MMP14                  7.683088                                 \n",
       "DTX2P1-UPK3BP1-PMS2P11 9.188813                                 \n",
       "BAD                    6.193126                                 \n",
       "PRPF8                  9.707603                                 \n",
       "                       GSM924010_ALK_MDS_RAEO_001973_45_A_PZ.CEL\n",
       "PAX8                    8.531356                                \n",
       "CCL5                    7.502036                                \n",
       "MMP14                   7.825051                                \n",
       "DTX2P1-UPK3BP1-PMS2P11  9.059932                                \n",
       "BAD                     5.816396                                \n",
       "PRPF8                  10.027859                                \n",
       "                       GSM924011_ALK_MDS_RAEO_002508_76_A_PZ.CEL\n",
       "PAX8                   8.808418                                 \n",
       "CCL5                   7.077740                                 \n",
       "MMP14                  7.808342                                 \n",
       "DTX2P1-UPK3BP1-PMS2P11 9.182124                                 \n",
       "BAD                    6.021704                                 \n",
       "PRPF8                  9.821617                                 \n",
       "                       GSM924013_ALK_MDS_RAEO_031238_53_A_PZ.CEL\n",
       "PAX8                   8.703484                                 \n",
       "CCL5                   8.526308                                 \n",
       "MMP14                  7.715343                                 \n",
       "DTX2P1-UPK3BP1-PMS2P11 8.757411                                 \n",
       "BAD                    5.976942                                 \n",
       "PRPF8                  9.937550                                 \n",
       "                       GSM924014_ALK_MDS_RAEO_031526_60_A_PZ.CEL\n",
       "PAX8                   9.304286                                 \n",
       "CCL5                   9.071024                                 \n",
       "MMP14                  8.333734                                 \n",
       "DTX2P1-UPK3BP1-PMS2P11 9.187252                                 \n",
       "BAD                    5.948137                                 \n",
       "PRPF8                  9.299585                                 \n",
       "                       GSM924015_ALK_MDS_RAEO_034350_16_A_PZ.CEL\n",
       "PAX8                    8.775102                                \n",
       "CCL5                    7.473359                                \n",
       "MMP14                   7.902804                                \n",
       "DTX2P1-UPK3BP1-PMS2P11  8.861302                                \n",
       "BAD                     5.904270                                \n",
       "PRPF8                  10.448940                                \n",
       "                       GSM924016_ALK_MDS_RAEO_035203_14_A_PZ.CEL\n",
       "PAX8                   8.625841                                 \n",
       "CCL5                   7.967037                                 \n",
       "MMP14                  7.981485                                 \n",
       "DTX2P1-UPK3BP1-PMS2P11 8.668579                                 \n",
       "BAD                    5.951656                                 \n",
       "PRPF8                  9.823071                                 \n",
       "                       GSM924017_ALK_MDS_RAEO_040105_7_A_PZ.CEL\n",
       "PAX8                   8.632727                                \n",
       "CCL5                   8.728520                                \n",
       "MMP14                  7.684523                                \n",
       "DTX2P1-UPK3BP1-PMS2P11 8.991182                                \n",
       "BAD                    6.100816                                \n",
       "PRPF8                  9.656752                                "
      ]
     },
     "metadata": {},
     "output_type": "display_data"
    },
    {
     "data": {
      "text/html": [
       "<table class=\"dataframe\">\n",
       "<caption>A matrix: 6 × 2500 of type dbl</caption>\n",
       "<thead>\n",
       "\t<tr><th></th><th scope=col>AHW_ALL_BA_025919_13_A_PZ.CEL</th><th scope=col>AHW_ALL_BA_032751_71_A_PZ.CEL</th><th scope=col>AHW_ALL_BN_022495_7_A_PZ.CEL</th><th scope=col>AHW_ALL_MLL_031351_13_A_PZ.CEL</th><th scope=col>AHW_ALL_MLL_036187_80_A_PZ.CEL</th><th scope=col>AHW_ALL_Ph_030031_32_A_PZ.CEL</th><th scope=col>AHW_ALL_Ph_032683_15_A_PZ.CEL</th><th scope=col>AHW_ALL_Ph_035655_63_A_PZ.CEL</th><th scope=col>AHW_ALL_TA_025336_26_A_PZ.CEL</th><th scope=col>AHW_ALL_TA_032725_16_A_PZ.CEL</th><th scope=col>⋯</th><th scope=col>GSM924007_ALK_MDS_RAEC_022687_38_A_PZ.CEL</th><th scope=col>GSM924008_ALK_MDS_RAEC_034886_40_A_PZ.CEL</th><th scope=col>GSM924009_ALK_MDS_RAEO_001885_44_A_PZ.CEL</th><th scope=col>GSM924010_ALK_MDS_RAEO_001973_45_A_PZ.CEL</th><th scope=col>GSM924011_ALK_MDS_RAEO_002508_76_A_PZ.CEL</th><th scope=col>GSM924013_ALK_MDS_RAEO_031238_53_A_PZ.CEL</th><th scope=col>GSM924014_ALK_MDS_RAEO_031526_60_A_PZ.CEL</th><th scope=col>GSM924015_ALK_MDS_RAEO_034350_16_A_PZ.CEL</th><th scope=col>GSM924016_ALK_MDS_RAEO_035203_14_A_PZ.CEL</th><th scope=col>GSM924017_ALK_MDS_RAEO_040105_7_A_PZ.CEL</th></tr>\n",
       "</thead>\n",
       "<tbody>\n",
       "\t<tr><th scope=row>MEX3D</th><td> 5.404848</td><td> 5.650710</td><td> 5.385639</td><td> 5.696314</td><td> 5.459417</td><td> 5.002720</td><td> 6.176596</td><td> 5.347448</td><td> 4.969231</td><td> 6.102246</td><td>⋯</td><td> 5.046778</td><td> 5.087647</td><td> 5.118147</td><td> 5.037594</td><td> 4.821375</td><td> 5.370264</td><td> 4.779831</td><td> 5.182291</td><td> 5.030552</td><td> 4.999076</td></tr>\n",
       "\t<tr><th scope=row>BCAN</th><td> 7.871873</td><td> 7.179527</td><td> 7.652625</td><td> 7.594891</td><td> 7.480463</td><td> 7.565395</td><td> 7.552387</td><td> 7.528189</td><td> 7.808860</td><td> 7.794971</td><td>⋯</td><td> 7.705970</td><td> 7.323551</td><td> 7.616174</td><td> 7.537318</td><td> 7.713409</td><td> 7.368321</td><td> 8.080974</td><td> 7.345759</td><td> 7.636976</td><td> 7.538170</td></tr>\n",
       "\t<tr><th scope=row>ACTB</th><td>11.430549</td><td>10.928578</td><td>11.297186</td><td>12.156462</td><td>10.509088</td><td>11.036812</td><td>11.328231</td><td>12.141119</td><td>10.309743</td><td>10.069362</td><td>⋯</td><td>11.811500</td><td>10.581782</td><td>12.103968</td><td>12.128609</td><td>12.924348</td><td>10.306471</td><td> 9.570415</td><td>10.426717</td><td>10.530491</td><td>10.448178</td></tr>\n",
       "\t<tr><th scope=row>GAPDH</th><td>11.725073</td><td>11.671908</td><td>11.879521</td><td>12.175835</td><td>11.038747</td><td>10.754323</td><td>10.747527</td><td>12.636451</td><td>11.299086</td><td>11.478279</td><td>⋯</td><td>12.450878</td><td>10.794069</td><td>12.555838</td><td>11.483291</td><td>12.551613</td><td>10.856334</td><td>10.095893</td><td>10.853914</td><td>10.176301</td><td>11.612054</td></tr>\n",
       "\t<tr><th scope=row>MIR3648-2</th><td> 6.373859</td><td> 6.572640</td><td>11.165859</td><td> 9.551800</td><td>11.295602</td><td> 5.917758</td><td>10.840717</td><td> 7.584580</td><td> 5.936155</td><td> 8.952610</td><td>⋯</td><td> 9.506061</td><td>11.519360</td><td>11.091616</td><td>10.891672</td><td>10.307151</td><td> 9.795573</td><td>11.212355</td><td> 6.843315</td><td> 7.315700</td><td> 9.114403</td></tr>\n",
       "\t<tr><th scope=row>MIR3648-1</th><td> 6.086670</td><td> 7.823704</td><td>10.734375</td><td> 9.627878</td><td>10.229529</td><td> 7.607608</td><td>10.177838</td><td> 7.386139</td><td> 7.122855</td><td> 9.345836</td><td>⋯</td><td>10.132054</td><td>11.931534</td><td>10.723389</td><td>11.639366</td><td>10.289545</td><td>10.530758</td><td>11.660112</td><td> 7.078248</td><td> 8.553492</td><td> 9.284127</td></tr>\n",
       "</tbody>\n",
       "</table>\n"
      ],
      "text/latex": [
       "A matrix: 6 × 2500 of type dbl\n",
       "\\begin{tabular}{r|lllllllllllllllllllll}\n",
       "  & AHW\\_ALL\\_BA\\_025919\\_13\\_A\\_PZ.CEL & AHW\\_ALL\\_BA\\_032751\\_71\\_A\\_PZ.CEL & AHW\\_ALL\\_BN\\_022495\\_7\\_A\\_PZ.CEL & AHW\\_ALL\\_MLL\\_031351\\_13\\_A\\_PZ.CEL & AHW\\_ALL\\_MLL\\_036187\\_80\\_A\\_PZ.CEL & AHW\\_ALL\\_Ph\\_030031\\_32\\_A\\_PZ.CEL & AHW\\_ALL\\_Ph\\_032683\\_15\\_A\\_PZ.CEL & AHW\\_ALL\\_Ph\\_035655\\_63\\_A\\_PZ.CEL & AHW\\_ALL\\_TA\\_025336\\_26\\_A\\_PZ.CEL & AHW\\_ALL\\_TA\\_032725\\_16\\_A\\_PZ.CEL & ⋯ & GSM924007\\_ALK\\_MDS\\_RAEC\\_022687\\_38\\_A\\_PZ.CEL & GSM924008\\_ALK\\_MDS\\_RAEC\\_034886\\_40\\_A\\_PZ.CEL & GSM924009\\_ALK\\_MDS\\_RAEO\\_001885\\_44\\_A\\_PZ.CEL & GSM924010\\_ALK\\_MDS\\_RAEO\\_001973\\_45\\_A\\_PZ.CEL & GSM924011\\_ALK\\_MDS\\_RAEO\\_002508\\_76\\_A\\_PZ.CEL & GSM924013\\_ALK\\_MDS\\_RAEO\\_031238\\_53\\_A\\_PZ.CEL & GSM924014\\_ALK\\_MDS\\_RAEO\\_031526\\_60\\_A\\_PZ.CEL & GSM924015\\_ALK\\_MDS\\_RAEO\\_034350\\_16\\_A\\_PZ.CEL & GSM924016\\_ALK\\_MDS\\_RAEO\\_035203\\_14\\_A\\_PZ.CEL & GSM924017\\_ALK\\_MDS\\_RAEO\\_040105\\_7\\_A\\_PZ.CEL\\\\\n",
       "\\hline\n",
       "\tMEX3D &  5.404848 &  5.650710 &  5.385639 &  5.696314 &  5.459417 &  5.002720 &  6.176596 &  5.347448 &  4.969231 &  6.102246 & ⋯ &  5.046778 &  5.087647 &  5.118147 &  5.037594 &  4.821375 &  5.370264 &  4.779831 &  5.182291 &  5.030552 &  4.999076\\\\\n",
       "\tBCAN &  7.871873 &  7.179527 &  7.652625 &  7.594891 &  7.480463 &  7.565395 &  7.552387 &  7.528189 &  7.808860 &  7.794971 & ⋯ &  7.705970 &  7.323551 &  7.616174 &  7.537318 &  7.713409 &  7.368321 &  8.080974 &  7.345759 &  7.636976 &  7.538170\\\\\n",
       "\tACTB & 11.430549 & 10.928578 & 11.297186 & 12.156462 & 10.509088 & 11.036812 & 11.328231 & 12.141119 & 10.309743 & 10.069362 & ⋯ & 11.811500 & 10.581782 & 12.103968 & 12.128609 & 12.924348 & 10.306471 &  9.570415 & 10.426717 & 10.530491 & 10.448178\\\\\n",
       "\tGAPDH & 11.725073 & 11.671908 & 11.879521 & 12.175835 & 11.038747 & 10.754323 & 10.747527 & 12.636451 & 11.299086 & 11.478279 & ⋯ & 12.450878 & 10.794069 & 12.555838 & 11.483291 & 12.551613 & 10.856334 & 10.095893 & 10.853914 & 10.176301 & 11.612054\\\\\n",
       "\tMIR3648-2 &  6.373859 &  6.572640 & 11.165859 &  9.551800 & 11.295602 &  5.917758 & 10.840717 &  7.584580 &  5.936155 &  8.952610 & ⋯ &  9.506061 & 11.519360 & 11.091616 & 10.891672 & 10.307151 &  9.795573 & 11.212355 &  6.843315 &  7.315700 &  9.114403\\\\\n",
       "\tMIR3648-1 &  6.086670 &  7.823704 & 10.734375 &  9.627878 & 10.229529 &  7.607608 & 10.177838 &  7.386139 &  7.122855 &  9.345836 & ⋯ & 10.132054 & 11.931534 & 10.723389 & 11.639366 & 10.289545 & 10.530758 & 11.660112 &  7.078248 &  8.553492 &  9.284127\\\\\n",
       "\\end{tabular}\n"
      ],
      "text/markdown": [
       "\n",
       "A matrix: 6 × 2500 of type dbl\n",
       "\n",
       "| <!--/--> | AHW_ALL_BA_025919_13_A_PZ.CEL | AHW_ALL_BA_032751_71_A_PZ.CEL | AHW_ALL_BN_022495_7_A_PZ.CEL | AHW_ALL_MLL_031351_13_A_PZ.CEL | AHW_ALL_MLL_036187_80_A_PZ.CEL | AHW_ALL_Ph_030031_32_A_PZ.CEL | AHW_ALL_Ph_032683_15_A_PZ.CEL | AHW_ALL_Ph_035655_63_A_PZ.CEL | AHW_ALL_TA_025336_26_A_PZ.CEL | AHW_ALL_TA_032725_16_A_PZ.CEL | ⋯ | GSM924007_ALK_MDS_RAEC_022687_38_A_PZ.CEL | GSM924008_ALK_MDS_RAEC_034886_40_A_PZ.CEL | GSM924009_ALK_MDS_RAEO_001885_44_A_PZ.CEL | GSM924010_ALK_MDS_RAEO_001973_45_A_PZ.CEL | GSM924011_ALK_MDS_RAEO_002508_76_A_PZ.CEL | GSM924013_ALK_MDS_RAEO_031238_53_A_PZ.CEL | GSM924014_ALK_MDS_RAEO_031526_60_A_PZ.CEL | GSM924015_ALK_MDS_RAEO_034350_16_A_PZ.CEL | GSM924016_ALK_MDS_RAEO_035203_14_A_PZ.CEL | GSM924017_ALK_MDS_RAEO_040105_7_A_PZ.CEL |\n",
       "|---|---|---|---|---|---|---|---|---|---|---|---|---|---|---|---|---|---|---|---|---|---|\n",
       "| MEX3D |  5.404848 |  5.650710 |  5.385639 |  5.696314 |  5.459417 |  5.002720 |  6.176596 |  5.347448 |  4.969231 |  6.102246 | ⋯ |  5.046778 |  5.087647 |  5.118147 |  5.037594 |  4.821375 |  5.370264 |  4.779831 |  5.182291 |  5.030552 |  4.999076 |\n",
       "| BCAN |  7.871873 |  7.179527 |  7.652625 |  7.594891 |  7.480463 |  7.565395 |  7.552387 |  7.528189 |  7.808860 |  7.794971 | ⋯ |  7.705970 |  7.323551 |  7.616174 |  7.537318 |  7.713409 |  7.368321 |  8.080974 |  7.345759 |  7.636976 |  7.538170 |\n",
       "| ACTB | 11.430549 | 10.928578 | 11.297186 | 12.156462 | 10.509088 | 11.036812 | 11.328231 | 12.141119 | 10.309743 | 10.069362 | ⋯ | 11.811500 | 10.581782 | 12.103968 | 12.128609 | 12.924348 | 10.306471 |  9.570415 | 10.426717 | 10.530491 | 10.448178 |\n",
       "| GAPDH | 11.725073 | 11.671908 | 11.879521 | 12.175835 | 11.038747 | 10.754323 | 10.747527 | 12.636451 | 11.299086 | 11.478279 | ⋯ | 12.450878 | 10.794069 | 12.555838 | 11.483291 | 12.551613 | 10.856334 | 10.095893 | 10.853914 | 10.176301 | 11.612054 |\n",
       "| MIR3648-2 |  6.373859 |  6.572640 | 11.165859 |  9.551800 | 11.295602 |  5.917758 | 10.840717 |  7.584580 |  5.936155 |  8.952610 | ⋯ |  9.506061 | 11.519360 | 11.091616 | 10.891672 | 10.307151 |  9.795573 | 11.212355 |  6.843315 |  7.315700 |  9.114403 |\n",
       "| MIR3648-1 |  6.086670 |  7.823704 | 10.734375 |  9.627878 | 10.229529 |  7.607608 | 10.177838 |  7.386139 |  7.122855 |  9.345836 | ⋯ | 10.132054 | 11.931534 | 10.723389 | 11.639366 | 10.289545 | 10.530758 | 11.660112 |  7.078248 |  8.553492 |  9.284127 |\n",
       "\n"
      ],
      "text/plain": [
       "          AHW_ALL_BA_025919_13_A_PZ.CEL AHW_ALL_BA_032751_71_A_PZ.CEL\n",
       "MEX3D      5.404848                      5.650710                    \n",
       "BCAN       7.871873                      7.179527                    \n",
       "ACTB      11.430549                     10.928578                    \n",
       "GAPDH     11.725073                     11.671908                    \n",
       "MIR3648-2  6.373859                      6.572640                    \n",
       "MIR3648-1  6.086670                      7.823704                    \n",
       "          AHW_ALL_BN_022495_7_A_PZ.CEL AHW_ALL_MLL_031351_13_A_PZ.CEL\n",
       "MEX3D      5.385639                     5.696314                     \n",
       "BCAN       7.652625                     7.594891                     \n",
       "ACTB      11.297186                    12.156462                     \n",
       "GAPDH     11.879521                    12.175835                     \n",
       "MIR3648-2 11.165859                     9.551800                     \n",
       "MIR3648-1 10.734375                     9.627878                     \n",
       "          AHW_ALL_MLL_036187_80_A_PZ.CEL AHW_ALL_Ph_030031_32_A_PZ.CEL\n",
       "MEX3D      5.459417                       5.002720                    \n",
       "BCAN       7.480463                       7.565395                    \n",
       "ACTB      10.509088                      11.036812                    \n",
       "GAPDH     11.038747                      10.754323                    \n",
       "MIR3648-2 11.295602                       5.917758                    \n",
       "MIR3648-1 10.229529                       7.607608                    \n",
       "          AHW_ALL_Ph_032683_15_A_PZ.CEL AHW_ALL_Ph_035655_63_A_PZ.CEL\n",
       "MEX3D      6.176596                      5.347448                    \n",
       "BCAN       7.552387                      7.528189                    \n",
       "ACTB      11.328231                     12.141119                    \n",
       "GAPDH     10.747527                     12.636451                    \n",
       "MIR3648-2 10.840717                      7.584580                    \n",
       "MIR3648-1 10.177838                      7.386139                    \n",
       "          AHW_ALL_TA_025336_26_A_PZ.CEL AHW_ALL_TA_032725_16_A_PZ.CEL ⋯\n",
       "MEX3D      4.969231                      6.102246                     ⋯\n",
       "BCAN       7.808860                      7.794971                     ⋯\n",
       "ACTB      10.309743                     10.069362                     ⋯\n",
       "GAPDH     11.299086                     11.478279                     ⋯\n",
       "MIR3648-2  5.936155                      8.952610                     ⋯\n",
       "MIR3648-1  7.122855                      9.345836                     ⋯\n",
       "          GSM924007_ALK_MDS_RAEC_022687_38_A_PZ.CEL\n",
       "MEX3D      5.046778                                \n",
       "BCAN       7.705970                                \n",
       "ACTB      11.811500                                \n",
       "GAPDH     12.450878                                \n",
       "MIR3648-2  9.506061                                \n",
       "MIR3648-1 10.132054                                \n",
       "          GSM924008_ALK_MDS_RAEC_034886_40_A_PZ.CEL\n",
       "MEX3D      5.087647                                \n",
       "BCAN       7.323551                                \n",
       "ACTB      10.581782                                \n",
       "GAPDH     10.794069                                \n",
       "MIR3648-2 11.519360                                \n",
       "MIR3648-1 11.931534                                \n",
       "          GSM924009_ALK_MDS_RAEO_001885_44_A_PZ.CEL\n",
       "MEX3D      5.118147                                \n",
       "BCAN       7.616174                                \n",
       "ACTB      12.103968                                \n",
       "GAPDH     12.555838                                \n",
       "MIR3648-2 11.091616                                \n",
       "MIR3648-1 10.723389                                \n",
       "          GSM924010_ALK_MDS_RAEO_001973_45_A_PZ.CEL\n",
       "MEX3D      5.037594                                \n",
       "BCAN       7.537318                                \n",
       "ACTB      12.128609                                \n",
       "GAPDH     11.483291                                \n",
       "MIR3648-2 10.891672                                \n",
       "MIR3648-1 11.639366                                \n",
       "          GSM924011_ALK_MDS_RAEO_002508_76_A_PZ.CEL\n",
       "MEX3D      4.821375                                \n",
       "BCAN       7.713409                                \n",
       "ACTB      12.924348                                \n",
       "GAPDH     12.551613                                \n",
       "MIR3648-2 10.307151                                \n",
       "MIR3648-1 10.289545                                \n",
       "          GSM924013_ALK_MDS_RAEO_031238_53_A_PZ.CEL\n",
       "MEX3D      5.370264                                \n",
       "BCAN       7.368321                                \n",
       "ACTB      10.306471                                \n",
       "GAPDH     10.856334                                \n",
       "MIR3648-2  9.795573                                \n",
       "MIR3648-1 10.530758                                \n",
       "          GSM924014_ALK_MDS_RAEO_031526_60_A_PZ.CEL\n",
       "MEX3D      4.779831                                \n",
       "BCAN       8.080974                                \n",
       "ACTB       9.570415                                \n",
       "GAPDH     10.095893                                \n",
       "MIR3648-2 11.212355                                \n",
       "MIR3648-1 11.660112                                \n",
       "          GSM924015_ALK_MDS_RAEO_034350_16_A_PZ.CEL\n",
       "MEX3D      5.182291                                \n",
       "BCAN       7.345759                                \n",
       "ACTB      10.426717                                \n",
       "GAPDH     10.853914                                \n",
       "MIR3648-2  6.843315                                \n",
       "MIR3648-1  7.078248                                \n",
       "          GSM924016_ALK_MDS_RAEO_035203_14_A_PZ.CEL\n",
       "MEX3D      5.030552                                \n",
       "BCAN       7.636976                                \n",
       "ACTB      10.530491                                \n",
       "GAPDH     10.176301                                \n",
       "MIR3648-2  7.315700                                \n",
       "MIR3648-1  8.553492                                \n",
       "          GSM924017_ALK_MDS_RAEO_040105_7_A_PZ.CEL\n",
       "MEX3D      4.999076                               \n",
       "BCAN       7.538170                               \n",
       "ACTB      10.448178                               \n",
       "GAPDH     11.612054                               \n",
       "MIR3648-2  9.114403                               \n",
       "MIR3648-1  9.284127                               "
      ]
     },
     "metadata": {},
     "output_type": "display_data"
    },
    {
     "data": {
      "text/html": [
       "'info.1:'"
      ],
      "text/latex": [
       "'info.1:'"
      ],
      "text/markdown": [
       "'info.1:'"
      ],
      "text/plain": [
       "[1] \"info.1:\""
      ]
     },
     "metadata": {},
     "output_type": "display_data"
    },
    {
     "data": {
      "text/html": [
       "'data.frame'"
      ],
      "text/latex": [
       "'data.frame'"
      ],
      "text/markdown": [
       "'data.frame'"
      ],
      "text/plain": [
       "[1] \"data.frame\""
      ]
     },
     "metadata": {},
     "output_type": "display_data"
    },
    {
     "data": {
      "text/html": [
       "<style>\n",
       ".list-inline {list-style: none; margin:0; padding: 0}\n",
       ".list-inline>li {display: inline-block}\n",
       ".list-inline>li:not(:last-child)::after {content: \"\\00b7\"; padding: 0 .5ex}\n",
       "</style>\n",
       "<ol class=list-inline><li>2500</li><li>8</li></ol>\n"
      ],
      "text/latex": [
       "\\begin{enumerate*}\n",
       "\\item 2500\n",
       "\\item 8\n",
       "\\end{enumerate*}\n"
      ],
      "text/markdown": [
       "1. 2500\n",
       "2. 8\n",
       "\n",
       "\n"
      ],
      "text/plain": [
       "[1] 2500    8"
      ]
     },
     "metadata": {},
     "output_type": "display_data"
    },
    {
     "data": {
      "text/html": [
       "<table class=\"dataframe\">\n",
       "<caption>A data.frame: 6 × 8</caption>\n",
       "<thead>\n",
       "\t<tr><th></th><th scope=col>Dataset</th><th scope=col>GSE</th><th scope=col>Condition</th><th scope=col>Disease</th><th scope=col>Tissue</th><th scope=col>FAB</th><th scope=col>Filename</th><th scope=col>FAB_all</th></tr>\n",
       "\t<tr><th></th><th scope=col>&lt;dbl&gt;</th><th scope=col>&lt;fct&gt;</th><th scope=col>&lt;fct&gt;</th><th scope=col>&lt;fct&gt;</th><th scope=col>&lt;fct&gt;</th><th scope=col>&lt;chr&gt;</th><th scope=col>&lt;chr&gt;</th><th scope=col>&lt;chr&gt;</th></tr>\n",
       "</thead>\n",
       "<tbody>\n",
       "\t<tr><th scope=row>AHW_ALL_BA_025919_13_A_PZ.CEL</th><td>1</td><td>Haferlach</td><td>CONTROL</td><td>ALL</td><td>BM or PBMC</td><td>unknown</td><td>AHW_ALL_BA_025919_13_A_PZ.CEL </td><td>unknown</td></tr>\n",
       "\t<tr><th scope=row>AHW_ALL_BA_032751_71_A_PZ.CEL</th><td>1</td><td>Haferlach</td><td>CONTROL</td><td>ALL</td><td>BM or PBMC</td><td>unknown</td><td>AHW_ALL_BA_032751_71_A_PZ.CEL </td><td>unknown</td></tr>\n",
       "\t<tr><th scope=row>AHW_ALL_BN_022495_7_A_PZ.CEL</th><td>1</td><td>Haferlach</td><td>CONTROL</td><td>ALL</td><td>BM or PBMC</td><td>unknown</td><td>AHW_ALL_BN_022495_7_A_PZ.CEL  </td><td>unknown</td></tr>\n",
       "\t<tr><th scope=row>AHW_ALL_MLL_031351_13_A_PZ.CEL</th><td>1</td><td>Haferlach</td><td>CONTROL</td><td>ALL</td><td>BM or PBMC</td><td>unknown</td><td>AHW_ALL_MLL_031351_13_A_PZ.CEL</td><td>unknown</td></tr>\n",
       "\t<tr><th scope=row>AHW_ALL_MLL_036187_80_A_PZ.CEL</th><td>1</td><td>Haferlach</td><td>CONTROL</td><td>ALL</td><td>BM or PBMC</td><td>unknown</td><td>AHW_ALL_MLL_036187_80_A_PZ.CEL</td><td>unknown</td></tr>\n",
       "\t<tr><th scope=row>AHW_ALL_Ph_030031_32_A_PZ.CEL</th><td>1</td><td>Haferlach</td><td>CONTROL</td><td>ALL</td><td>BM or PBMC</td><td>unknown</td><td>AHW_ALL_Ph_030031_32_A_PZ.CEL </td><td>unknown</td></tr>\n",
       "</tbody>\n",
       "</table>\n"
      ],
      "text/latex": [
       "A data.frame: 6 × 8\n",
       "\\begin{tabular}{r|llllllll}\n",
       "  & Dataset & GSE & Condition & Disease & Tissue & FAB & Filename & FAB\\_all\\\\\n",
       "  & <dbl> & <fct> & <fct> & <fct> & <fct> & <chr> & <chr> & <chr>\\\\\n",
       "\\hline\n",
       "\tAHW\\_ALL\\_BA\\_025919\\_13\\_A\\_PZ.CEL & 1 & Haferlach & CONTROL & ALL & BM or PBMC & unknown & AHW\\_ALL\\_BA\\_025919\\_13\\_A\\_PZ.CEL  & unknown\\\\\n",
       "\tAHW\\_ALL\\_BA\\_032751\\_71\\_A\\_PZ.CEL & 1 & Haferlach & CONTROL & ALL & BM or PBMC & unknown & AHW\\_ALL\\_BA\\_032751\\_71\\_A\\_PZ.CEL  & unknown\\\\\n",
       "\tAHW\\_ALL\\_BN\\_022495\\_7\\_A\\_PZ.CEL & 1 & Haferlach & CONTROL & ALL & BM or PBMC & unknown & AHW\\_ALL\\_BN\\_022495\\_7\\_A\\_PZ.CEL   & unknown\\\\\n",
       "\tAHW\\_ALL\\_MLL\\_031351\\_13\\_A\\_PZ.CEL & 1 & Haferlach & CONTROL & ALL & BM or PBMC & unknown & AHW\\_ALL\\_MLL\\_031351\\_13\\_A\\_PZ.CEL & unknown\\\\\n",
       "\tAHW\\_ALL\\_MLL\\_036187\\_80\\_A\\_PZ.CEL & 1 & Haferlach & CONTROL & ALL & BM or PBMC & unknown & AHW\\_ALL\\_MLL\\_036187\\_80\\_A\\_PZ.CEL & unknown\\\\\n",
       "\tAHW\\_ALL\\_Ph\\_030031\\_32\\_A\\_PZ.CEL & 1 & Haferlach & CONTROL & ALL & BM or PBMC & unknown & AHW\\_ALL\\_Ph\\_030031\\_32\\_A\\_PZ.CEL  & unknown\\\\\n",
       "\\end{tabular}\n"
      ],
      "text/markdown": [
       "\n",
       "A data.frame: 6 × 8\n",
       "\n",
       "| <!--/--> | Dataset &lt;dbl&gt; | GSE &lt;fct&gt; | Condition &lt;fct&gt; | Disease &lt;fct&gt; | Tissue &lt;fct&gt; | FAB &lt;chr&gt; | Filename &lt;chr&gt; | FAB_all &lt;chr&gt; |\n",
       "|---|---|---|---|---|---|---|---|---|\n",
       "| AHW_ALL_BA_025919_13_A_PZ.CEL | 1 | Haferlach | CONTROL | ALL | BM or PBMC | unknown | AHW_ALL_BA_025919_13_A_PZ.CEL  | unknown |\n",
       "| AHW_ALL_BA_032751_71_A_PZ.CEL | 1 | Haferlach | CONTROL | ALL | BM or PBMC | unknown | AHW_ALL_BA_032751_71_A_PZ.CEL  | unknown |\n",
       "| AHW_ALL_BN_022495_7_A_PZ.CEL | 1 | Haferlach | CONTROL | ALL | BM or PBMC | unknown | AHW_ALL_BN_022495_7_A_PZ.CEL   | unknown |\n",
       "| AHW_ALL_MLL_031351_13_A_PZ.CEL | 1 | Haferlach | CONTROL | ALL | BM or PBMC | unknown | AHW_ALL_MLL_031351_13_A_PZ.CEL | unknown |\n",
       "| AHW_ALL_MLL_036187_80_A_PZ.CEL | 1 | Haferlach | CONTROL | ALL | BM or PBMC | unknown | AHW_ALL_MLL_036187_80_A_PZ.CEL | unknown |\n",
       "| AHW_ALL_Ph_030031_32_A_PZ.CEL | 1 | Haferlach | CONTROL | ALL | BM or PBMC | unknown | AHW_ALL_Ph_030031_32_A_PZ.CEL  | unknown |\n",
       "\n"
      ],
      "text/plain": [
       "                               Dataset GSE       Condition Disease Tissue    \n",
       "AHW_ALL_BA_025919_13_A_PZ.CEL  1       Haferlach CONTROL   ALL     BM or PBMC\n",
       "AHW_ALL_BA_032751_71_A_PZ.CEL  1       Haferlach CONTROL   ALL     BM or PBMC\n",
       "AHW_ALL_BN_022495_7_A_PZ.CEL   1       Haferlach CONTROL   ALL     BM or PBMC\n",
       "AHW_ALL_MLL_031351_13_A_PZ.CEL 1       Haferlach CONTROL   ALL     BM or PBMC\n",
       "AHW_ALL_MLL_036187_80_A_PZ.CEL 1       Haferlach CONTROL   ALL     BM or PBMC\n",
       "AHW_ALL_Ph_030031_32_A_PZ.CEL  1       Haferlach CONTROL   ALL     BM or PBMC\n",
       "                               FAB     Filename                       FAB_all\n",
       "AHW_ALL_BA_025919_13_A_PZ.CEL  unknown AHW_ALL_BA_025919_13_A_PZ.CEL  unknown\n",
       "AHW_ALL_BA_032751_71_A_PZ.CEL  unknown AHW_ALL_BA_032751_71_A_PZ.CEL  unknown\n",
       "AHW_ALL_BN_022495_7_A_PZ.CEL   unknown AHW_ALL_BN_022495_7_A_PZ.CEL   unknown\n",
       "AHW_ALL_MLL_031351_13_A_PZ.CEL unknown AHW_ALL_MLL_031351_13_A_PZ.CEL unknown\n",
       "AHW_ALL_MLL_036187_80_A_PZ.CEL unknown AHW_ALL_MLL_036187_80_A_PZ.CEL unknown\n",
       "AHW_ALL_Ph_030031_32_A_PZ.CEL  unknown AHW_ALL_Ph_030031_32_A_PZ.CEL  unknown"
      ]
     },
     "metadata": {},
     "output_type": "display_data"
    },
    {
     "data": {
      "text/html": [
       "<table class=\"dataframe\">\n",
       "<caption>A data.frame: 6 × 8</caption>\n",
       "<thead>\n",
       "\t<tr><th></th><th scope=col>Dataset</th><th scope=col>GSE</th><th scope=col>Condition</th><th scope=col>Disease</th><th scope=col>Tissue</th><th scope=col>FAB</th><th scope=col>Filename</th><th scope=col>FAB_all</th></tr>\n",
       "\t<tr><th></th><th scope=col>&lt;dbl&gt;</th><th scope=col>&lt;fct&gt;</th><th scope=col>&lt;fct&gt;</th><th scope=col>&lt;fct&gt;</th><th scope=col>&lt;fct&gt;</th><th scope=col>&lt;chr&gt;</th><th scope=col>&lt;chr&gt;</th><th scope=col>&lt;chr&gt;</th></tr>\n",
       "</thead>\n",
       "<tbody>\n",
       "\t<tr><th scope=row>GSM924011_ALK_MDS_RAEO_002508_76_A_PZ.CEL</th><td>1</td><td>GSE37642</td><td>CASE</td><td>AML</td><td>BM</td><td>unknown</td><td>GSM924011_ALK_MDS_RAEO_002508_76_A_PZ.CEL</td><td>unknown</td></tr>\n",
       "\t<tr><th scope=row>GSM924013_ALK_MDS_RAEO_031238_53_A_PZ.CEL</th><td>1</td><td>GSE37642</td><td>CASE</td><td>AML</td><td>BM</td><td>M1     </td><td>GSM924013_ALK_MDS_RAEO_031238_53_A_PZ.CEL</td><td>M1     </td></tr>\n",
       "\t<tr><th scope=row>GSM924014_ALK_MDS_RAEO_031526_60_A_PZ.CEL</th><td>1</td><td>GSE37642</td><td>CASE</td><td>AML</td><td>BM</td><td>unknown</td><td>GSM924014_ALK_MDS_RAEO_031526_60_A_PZ.CEL</td><td>unknown</td></tr>\n",
       "\t<tr><th scope=row>GSM924015_ALK_MDS_RAEO_034350_16_A_PZ.CEL</th><td>1</td><td>GSE37642</td><td>CASE</td><td>AML</td><td>BM</td><td>M6     </td><td>GSM924015_ALK_MDS_RAEO_034350_16_A_PZ.CEL</td><td>M6     </td></tr>\n",
       "\t<tr><th scope=row>GSM924016_ALK_MDS_RAEO_035203_14_A_PZ.CEL</th><td>1</td><td>GSE37642</td><td>CASE</td><td>AML</td><td>BM</td><td>unknown</td><td>GSM924016_ALK_MDS_RAEO_035203_14_A_PZ.CEL</td><td>unknown</td></tr>\n",
       "\t<tr><th scope=row>GSM924017_ALK_MDS_RAEO_040105_7_A_PZ.CEL</th><td>1</td><td>GSE37642</td><td>CASE</td><td>AML</td><td>BM</td><td>unknown</td><td>GSM924017_ALK_MDS_RAEO_040105_7_A_PZ.CEL </td><td>unknown</td></tr>\n",
       "</tbody>\n",
       "</table>\n"
      ],
      "text/latex": [
       "A data.frame: 6 × 8\n",
       "\\begin{tabular}{r|llllllll}\n",
       "  & Dataset & GSE & Condition & Disease & Tissue & FAB & Filename & FAB\\_all\\\\\n",
       "  & <dbl> & <fct> & <fct> & <fct> & <fct> & <chr> & <chr> & <chr>\\\\\n",
       "\\hline\n",
       "\tGSM924011\\_ALK\\_MDS\\_RAEO\\_002508\\_76\\_A\\_PZ.CEL & 1 & GSE37642 & CASE & AML & BM & unknown & GSM924011\\_ALK\\_MDS\\_RAEO\\_002508\\_76\\_A\\_PZ.CEL & unknown\\\\\n",
       "\tGSM924013\\_ALK\\_MDS\\_RAEO\\_031238\\_53\\_A\\_PZ.CEL & 1 & GSE37642 & CASE & AML & BM & M1      & GSM924013\\_ALK\\_MDS\\_RAEO\\_031238\\_53\\_A\\_PZ.CEL & M1     \\\\\n",
       "\tGSM924014\\_ALK\\_MDS\\_RAEO\\_031526\\_60\\_A\\_PZ.CEL & 1 & GSE37642 & CASE & AML & BM & unknown & GSM924014\\_ALK\\_MDS\\_RAEO\\_031526\\_60\\_A\\_PZ.CEL & unknown\\\\\n",
       "\tGSM924015\\_ALK\\_MDS\\_RAEO\\_034350\\_16\\_A\\_PZ.CEL & 1 & GSE37642 & CASE & AML & BM & M6      & GSM924015\\_ALK\\_MDS\\_RAEO\\_034350\\_16\\_A\\_PZ.CEL & M6     \\\\\n",
       "\tGSM924016\\_ALK\\_MDS\\_RAEO\\_035203\\_14\\_A\\_PZ.CEL & 1 & GSE37642 & CASE & AML & BM & unknown & GSM924016\\_ALK\\_MDS\\_RAEO\\_035203\\_14\\_A\\_PZ.CEL & unknown\\\\\n",
       "\tGSM924017\\_ALK\\_MDS\\_RAEO\\_040105\\_7\\_A\\_PZ.CEL & 1 & GSE37642 & CASE & AML & BM & unknown & GSM924017\\_ALK\\_MDS\\_RAEO\\_040105\\_7\\_A\\_PZ.CEL  & unknown\\\\\n",
       "\\end{tabular}\n"
      ],
      "text/markdown": [
       "\n",
       "A data.frame: 6 × 8\n",
       "\n",
       "| <!--/--> | Dataset &lt;dbl&gt; | GSE &lt;fct&gt; | Condition &lt;fct&gt; | Disease &lt;fct&gt; | Tissue &lt;fct&gt; | FAB &lt;chr&gt; | Filename &lt;chr&gt; | FAB_all &lt;chr&gt; |\n",
       "|---|---|---|---|---|---|---|---|---|\n",
       "| GSM924011_ALK_MDS_RAEO_002508_76_A_PZ.CEL | 1 | GSE37642 | CASE | AML | BM | unknown | GSM924011_ALK_MDS_RAEO_002508_76_A_PZ.CEL | unknown |\n",
       "| GSM924013_ALK_MDS_RAEO_031238_53_A_PZ.CEL | 1 | GSE37642 | CASE | AML | BM | M1      | GSM924013_ALK_MDS_RAEO_031238_53_A_PZ.CEL | M1      |\n",
       "| GSM924014_ALK_MDS_RAEO_031526_60_A_PZ.CEL | 1 | GSE37642 | CASE | AML | BM | unknown | GSM924014_ALK_MDS_RAEO_031526_60_A_PZ.CEL | unknown |\n",
       "| GSM924015_ALK_MDS_RAEO_034350_16_A_PZ.CEL | 1 | GSE37642 | CASE | AML | BM | M6      | GSM924015_ALK_MDS_RAEO_034350_16_A_PZ.CEL | M6      |\n",
       "| GSM924016_ALK_MDS_RAEO_035203_14_A_PZ.CEL | 1 | GSE37642 | CASE | AML | BM | unknown | GSM924016_ALK_MDS_RAEO_035203_14_A_PZ.CEL | unknown |\n",
       "| GSM924017_ALK_MDS_RAEO_040105_7_A_PZ.CEL | 1 | GSE37642 | CASE | AML | BM | unknown | GSM924017_ALK_MDS_RAEO_040105_7_A_PZ.CEL  | unknown |\n",
       "\n"
      ],
      "text/plain": [
       "                                          Dataset GSE      Condition Disease\n",
       "GSM924011_ALK_MDS_RAEO_002508_76_A_PZ.CEL 1       GSE37642 CASE      AML    \n",
       "GSM924013_ALK_MDS_RAEO_031238_53_A_PZ.CEL 1       GSE37642 CASE      AML    \n",
       "GSM924014_ALK_MDS_RAEO_031526_60_A_PZ.CEL 1       GSE37642 CASE      AML    \n",
       "GSM924015_ALK_MDS_RAEO_034350_16_A_PZ.CEL 1       GSE37642 CASE      AML    \n",
       "GSM924016_ALK_MDS_RAEO_035203_14_A_PZ.CEL 1       GSE37642 CASE      AML    \n",
       "GSM924017_ALK_MDS_RAEO_040105_7_A_PZ.CEL  1       GSE37642 CASE      AML    \n",
       "                                          Tissue FAB    \n",
       "GSM924011_ALK_MDS_RAEO_002508_76_A_PZ.CEL BM     unknown\n",
       "GSM924013_ALK_MDS_RAEO_031238_53_A_PZ.CEL BM     M1     \n",
       "GSM924014_ALK_MDS_RAEO_031526_60_A_PZ.CEL BM     unknown\n",
       "GSM924015_ALK_MDS_RAEO_034350_16_A_PZ.CEL BM     M6     \n",
       "GSM924016_ALK_MDS_RAEO_035203_14_A_PZ.CEL BM     unknown\n",
       "GSM924017_ALK_MDS_RAEO_040105_7_A_PZ.CEL  BM     unknown\n",
       "                                          Filename                                 \n",
       "GSM924011_ALK_MDS_RAEO_002508_76_A_PZ.CEL GSM924011_ALK_MDS_RAEO_002508_76_A_PZ.CEL\n",
       "GSM924013_ALK_MDS_RAEO_031238_53_A_PZ.CEL GSM924013_ALK_MDS_RAEO_031238_53_A_PZ.CEL\n",
       "GSM924014_ALK_MDS_RAEO_031526_60_A_PZ.CEL GSM924014_ALK_MDS_RAEO_031526_60_A_PZ.CEL\n",
       "GSM924015_ALK_MDS_RAEO_034350_16_A_PZ.CEL GSM924015_ALK_MDS_RAEO_034350_16_A_PZ.CEL\n",
       "GSM924016_ALK_MDS_RAEO_035203_14_A_PZ.CEL GSM924016_ALK_MDS_RAEO_035203_14_A_PZ.CEL\n",
       "GSM924017_ALK_MDS_RAEO_040105_7_A_PZ.CEL  GSM924017_ALK_MDS_RAEO_040105_7_A_PZ.CEL \n",
       "                                          FAB_all\n",
       "GSM924011_ALK_MDS_RAEO_002508_76_A_PZ.CEL unknown\n",
       "GSM924013_ALK_MDS_RAEO_031238_53_A_PZ.CEL M1     \n",
       "GSM924014_ALK_MDS_RAEO_031526_60_A_PZ.CEL unknown\n",
       "GSM924015_ALK_MDS_RAEO_034350_16_A_PZ.CEL M6     \n",
       "GSM924016_ALK_MDS_RAEO_035203_14_A_PZ.CEL unknown\n",
       "GSM924017_ALK_MDS_RAEO_040105_7_A_PZ.CEL  unknown"
      ]
     },
     "metadata": {},
     "output_type": "display_data"
    },
    {
     "data": {
      "text/html": [
       "'data.2:'"
      ],
      "text/latex": [
       "'data.2:'"
      ],
      "text/markdown": [
       "'data.2:'"
      ],
      "text/plain": [
       "[1] \"data.2:\""
      ]
     },
     "metadata": {},
     "output_type": "display_data"
    },
    {
     "data": {
      "text/html": [
       "<style>\n",
       ".list-inline {list-style: none; margin:0; padding: 0}\n",
       ".list-inline>li {display: inline-block}\n",
       ".list-inline>li:not(:last-child)::after {content: \"\\00b7\"; padding: 0 .5ex}\n",
       "</style>\n",
       "<ol class=list-inline><li>'matrix'</li><li>'array'</li></ol>\n"
      ],
      "text/latex": [
       "\\begin{enumerate*}\n",
       "\\item 'matrix'\n",
       "\\item 'array'\n",
       "\\end{enumerate*}\n"
      ],
      "text/markdown": [
       "1. 'matrix'\n",
       "2. 'array'\n",
       "\n",
       "\n"
      ],
      "text/plain": [
       "[1] \"matrix\" \"array\" "
      ]
     },
     "metadata": {},
     "output_type": "display_data"
    },
    {
     "data": {
      "text/html": [
       "<style>\n",
       ".list-inline {list-style: none; margin:0; padding: 0}\n",
       ".list-inline>li {display: inline-block}\n",
       ".list-inline>li:not(:last-child)::after {content: \"\\00b7\"; padding: 0 .5ex}\n",
       "</style>\n",
       "<ol class=list-inline><li>12708</li><li>8348</li></ol>\n"
      ],
      "text/latex": [
       "\\begin{enumerate*}\n",
       "\\item 12708\n",
       "\\item 8348\n",
       "\\end{enumerate*}\n"
      ],
      "text/markdown": [
       "1. 12708\n",
       "2. 8348\n",
       "\n",
       "\n"
      ],
      "text/plain": [
       "[1] 12708  8348"
      ]
     },
     "metadata": {},
     "output_type": "display_data"
    },
    {
     "data": {
      "text/html": [
       "<table class=\"dataframe\">\n",
       "<caption>A matrix: 6 × 8348 of type dbl</caption>\n",
       "<thead>\n",
       "\t<tr><th></th><th scope=col>GSM1030962_10030.CEL</th><th scope=col>GSM1030963_10110.CEL</th><th scope=col>GSM1030964_10111.CEL</th><th scope=col>GSM1030965_10138.CEL</th><th scope=col>GSM1030966_1032.CEL</th><th scope=col>GSM1030967_1113.CEL</th><th scope=col>GSM1030968_1132.CEL</th><th scope=col>GSM1030969_1446.CEL</th><th scope=col>GSM1030970_1509.CEL</th><th scope=col>GSM1030971_1524.CEL</th><th scope=col>⋯</th><th scope=col>GSM924570_LfL2004_424.CEL</th><th scope=col>GSM924571_LfL2004_426.CEL</th><th scope=col>GSM924572_LfL2004_427.CEL</th><th scope=col>GSM924573_LfL2004_508.CEL</th><th scope=col>GSM924574_LfL2004_521.CEL</th><th scope=col>GSM924575_LfL2004_529.CEL</th><th scope=col>GSM924576_LfL2004_543.CEL</th><th scope=col>GSM924577_LfL2004_544.CEL</th><th scope=col>GSM924578_LfL2005_105.CEL</th><th scope=col>GSM924579_LfL2005_106.CEL</th></tr>\n",
       "</thead>\n",
       "<tbody>\n",
       "\t<tr><th scope=row>PAX8</th><td>8.27154</td><td>8.49112</td><td> 8.34082</td><td>8.24190</td><td>7.75355</td><td>7.95457</td><td>7.99231</td><td> 8.40749</td><td>8.11578</td><td>8.18438</td><td>⋯</td><td>7.10595</td><td>7.91310</td><td>7.35846</td><td>7.58868</td><td>7.20894</td><td>7.15379</td><td>7.27836</td><td>7.90197</td><td> 7.77710</td><td>8.07077</td></tr>\n",
       "\t<tr><th scope=row>CCL5</th><td>5.02307</td><td>3.95575</td><td> 4.68666</td><td>5.78429</td><td>4.97396</td><td>5.75343</td><td>4.21497</td><td> 4.55103</td><td>9.11314</td><td>7.51884</td><td>⋯</td><td>9.73433</td><td>8.19256</td><td>7.94408</td><td>8.31446</td><td>9.78055</td><td>7.81290</td><td>8.43130</td><td>9.00389</td><td>10.77250</td><td>9.60457</td></tr>\n",
       "\t<tr><th scope=row>MMP14</th><td>7.06640</td><td>6.41582</td><td> 6.14716</td><td>6.65615</td><td>6.35464</td><td>6.89049</td><td>6.28378</td><td> 6.63393</td><td>6.55267</td><td>6.79243</td><td>⋯</td><td>5.54289</td><td>6.59639</td><td>6.09989</td><td>6.11176</td><td>5.52058</td><td>5.88418</td><td>5.67004</td><td>6.28643</td><td> 6.34328</td><td>6.20558</td></tr>\n",
       "\t<tr><th scope=row>DTX2P1-UPK3BP1-PMS2P11</th><td>8.24990</td><td>8.42649</td><td> 8.09809</td><td>8.15517</td><td>8.00680</td><td>7.95516</td><td>8.13866</td><td> 8.56563</td><td>7.87479</td><td>7.76304</td><td>⋯</td><td>7.57276</td><td>8.10639</td><td>7.87547</td><td>7.92185</td><td>7.71894</td><td>7.49404</td><td>7.70163</td><td>7.98879</td><td> 7.91903</td><td>7.63185</td></tr>\n",
       "\t<tr><th scope=row>BAD</th><td>5.75432</td><td>6.77953</td><td> 6.35168</td><td>4.97367</td><td>6.79648</td><td>5.49744</td><td>7.27109</td><td> 6.34759</td><td>5.37534</td><td>4.98609</td><td>⋯</td><td>4.90018</td><td>4.58021</td><td>5.49209</td><td>6.12062</td><td>5.96370</td><td>6.41037</td><td>6.16504</td><td>5.43941</td><td> 6.17747</td><td>6.94213</td></tr>\n",
       "\t<tr><th scope=row>PRPF8</th><td>9.40864</td><td>9.99876</td><td>10.10850</td><td>9.31322</td><td>9.89784</td><td>9.68242</td><td>9.99797</td><td>10.66240</td><td>9.52855</td><td>9.17292</td><td>⋯</td><td>9.06694</td><td>9.23565</td><td>7.94853</td><td>8.88408</td><td>8.95960</td><td>9.83892</td><td>9.56420</td><td>9.55271</td><td> 8.55952</td><td>9.68685</td></tr>\n",
       "</tbody>\n",
       "</table>\n"
      ],
      "text/latex": [
       "A matrix: 6 × 8348 of type dbl\n",
       "\\begin{tabular}{r|lllllllllllllllllllll}\n",
       "  & GSM1030962\\_10030.CEL & GSM1030963\\_10110.CEL & GSM1030964\\_10111.CEL & GSM1030965\\_10138.CEL & GSM1030966\\_1032.CEL & GSM1030967\\_1113.CEL & GSM1030968\\_1132.CEL & GSM1030969\\_1446.CEL & GSM1030970\\_1509.CEL & GSM1030971\\_1524.CEL & ⋯ & GSM924570\\_LfL2004\\_424.CEL & GSM924571\\_LfL2004\\_426.CEL & GSM924572\\_LfL2004\\_427.CEL & GSM924573\\_LfL2004\\_508.CEL & GSM924574\\_LfL2004\\_521.CEL & GSM924575\\_LfL2004\\_529.CEL & GSM924576\\_LfL2004\\_543.CEL & GSM924577\\_LfL2004\\_544.CEL & GSM924578\\_LfL2005\\_105.CEL & GSM924579\\_LfL2005\\_106.CEL\\\\\n",
       "\\hline\n",
       "\tPAX8 & 8.27154 & 8.49112 &  8.34082 & 8.24190 & 7.75355 & 7.95457 & 7.99231 &  8.40749 & 8.11578 & 8.18438 & ⋯ & 7.10595 & 7.91310 & 7.35846 & 7.58868 & 7.20894 & 7.15379 & 7.27836 & 7.90197 &  7.77710 & 8.07077\\\\\n",
       "\tCCL5 & 5.02307 & 3.95575 &  4.68666 & 5.78429 & 4.97396 & 5.75343 & 4.21497 &  4.55103 & 9.11314 & 7.51884 & ⋯ & 9.73433 & 8.19256 & 7.94408 & 8.31446 & 9.78055 & 7.81290 & 8.43130 & 9.00389 & 10.77250 & 9.60457\\\\\n",
       "\tMMP14 & 7.06640 & 6.41582 &  6.14716 & 6.65615 & 6.35464 & 6.89049 & 6.28378 &  6.63393 & 6.55267 & 6.79243 & ⋯ & 5.54289 & 6.59639 & 6.09989 & 6.11176 & 5.52058 & 5.88418 & 5.67004 & 6.28643 &  6.34328 & 6.20558\\\\\n",
       "\tDTX2P1-UPK3BP1-PMS2P11 & 8.24990 & 8.42649 &  8.09809 & 8.15517 & 8.00680 & 7.95516 & 8.13866 &  8.56563 & 7.87479 & 7.76304 & ⋯ & 7.57276 & 8.10639 & 7.87547 & 7.92185 & 7.71894 & 7.49404 & 7.70163 & 7.98879 &  7.91903 & 7.63185\\\\\n",
       "\tBAD & 5.75432 & 6.77953 &  6.35168 & 4.97367 & 6.79648 & 5.49744 & 7.27109 &  6.34759 & 5.37534 & 4.98609 & ⋯ & 4.90018 & 4.58021 & 5.49209 & 6.12062 & 5.96370 & 6.41037 & 6.16504 & 5.43941 &  6.17747 & 6.94213\\\\\n",
       "\tPRPF8 & 9.40864 & 9.99876 & 10.10850 & 9.31322 & 9.89784 & 9.68242 & 9.99797 & 10.66240 & 9.52855 & 9.17292 & ⋯ & 9.06694 & 9.23565 & 7.94853 & 8.88408 & 8.95960 & 9.83892 & 9.56420 & 9.55271 &  8.55952 & 9.68685\\\\\n",
       "\\end{tabular}\n"
      ],
      "text/markdown": [
       "\n",
       "A matrix: 6 × 8348 of type dbl\n",
       "\n",
       "| <!--/--> | GSM1030962_10030.CEL | GSM1030963_10110.CEL | GSM1030964_10111.CEL | GSM1030965_10138.CEL | GSM1030966_1032.CEL | GSM1030967_1113.CEL | GSM1030968_1132.CEL | GSM1030969_1446.CEL | GSM1030970_1509.CEL | GSM1030971_1524.CEL | ⋯ | GSM924570_LfL2004_424.CEL | GSM924571_LfL2004_426.CEL | GSM924572_LfL2004_427.CEL | GSM924573_LfL2004_508.CEL | GSM924574_LfL2004_521.CEL | GSM924575_LfL2004_529.CEL | GSM924576_LfL2004_543.CEL | GSM924577_LfL2004_544.CEL | GSM924578_LfL2005_105.CEL | GSM924579_LfL2005_106.CEL |\n",
       "|---|---|---|---|---|---|---|---|---|---|---|---|---|---|---|---|---|---|---|---|---|---|\n",
       "| PAX8 | 8.27154 | 8.49112 |  8.34082 | 8.24190 | 7.75355 | 7.95457 | 7.99231 |  8.40749 | 8.11578 | 8.18438 | ⋯ | 7.10595 | 7.91310 | 7.35846 | 7.58868 | 7.20894 | 7.15379 | 7.27836 | 7.90197 |  7.77710 | 8.07077 |\n",
       "| CCL5 | 5.02307 | 3.95575 |  4.68666 | 5.78429 | 4.97396 | 5.75343 | 4.21497 |  4.55103 | 9.11314 | 7.51884 | ⋯ | 9.73433 | 8.19256 | 7.94408 | 8.31446 | 9.78055 | 7.81290 | 8.43130 | 9.00389 | 10.77250 | 9.60457 |\n",
       "| MMP14 | 7.06640 | 6.41582 |  6.14716 | 6.65615 | 6.35464 | 6.89049 | 6.28378 |  6.63393 | 6.55267 | 6.79243 | ⋯ | 5.54289 | 6.59639 | 6.09989 | 6.11176 | 5.52058 | 5.88418 | 5.67004 | 6.28643 |  6.34328 | 6.20558 |\n",
       "| DTX2P1-UPK3BP1-PMS2P11 | 8.24990 | 8.42649 |  8.09809 | 8.15517 | 8.00680 | 7.95516 | 8.13866 |  8.56563 | 7.87479 | 7.76304 | ⋯ | 7.57276 | 8.10639 | 7.87547 | 7.92185 | 7.71894 | 7.49404 | 7.70163 | 7.98879 |  7.91903 | 7.63185 |\n",
       "| BAD | 5.75432 | 6.77953 |  6.35168 | 4.97367 | 6.79648 | 5.49744 | 7.27109 |  6.34759 | 5.37534 | 4.98609 | ⋯ | 4.90018 | 4.58021 | 5.49209 | 6.12062 | 5.96370 | 6.41037 | 6.16504 | 5.43941 |  6.17747 | 6.94213 |\n",
       "| PRPF8 | 9.40864 | 9.99876 | 10.10850 | 9.31322 | 9.89784 | 9.68242 | 9.99797 | 10.66240 | 9.52855 | 9.17292 | ⋯ | 9.06694 | 9.23565 | 7.94853 | 8.88408 | 8.95960 | 9.83892 | 9.56420 | 9.55271 |  8.55952 | 9.68685 |\n",
       "\n"
      ],
      "text/plain": [
       "                       GSM1030962_10030.CEL GSM1030963_10110.CEL\n",
       "PAX8                   8.27154              8.49112             \n",
       "CCL5                   5.02307              3.95575             \n",
       "MMP14                  7.06640              6.41582             \n",
       "DTX2P1-UPK3BP1-PMS2P11 8.24990              8.42649             \n",
       "BAD                    5.75432              6.77953             \n",
       "PRPF8                  9.40864              9.99876             \n",
       "                       GSM1030964_10111.CEL GSM1030965_10138.CEL\n",
       "PAX8                    8.34082             8.24190             \n",
       "CCL5                    4.68666             5.78429             \n",
       "MMP14                   6.14716             6.65615             \n",
       "DTX2P1-UPK3BP1-PMS2P11  8.09809             8.15517             \n",
       "BAD                     6.35168             4.97367             \n",
       "PRPF8                  10.10850             9.31322             \n",
       "                       GSM1030966_1032.CEL GSM1030967_1113.CEL\n",
       "PAX8                   7.75355             7.95457            \n",
       "CCL5                   4.97396             5.75343            \n",
       "MMP14                  6.35464             6.89049            \n",
       "DTX2P1-UPK3BP1-PMS2P11 8.00680             7.95516            \n",
       "BAD                    6.79648             5.49744            \n",
       "PRPF8                  9.89784             9.68242            \n",
       "                       GSM1030968_1132.CEL GSM1030969_1446.CEL\n",
       "PAX8                   7.99231              8.40749           \n",
       "CCL5                   4.21497              4.55103           \n",
       "MMP14                  6.28378              6.63393           \n",
       "DTX2P1-UPK3BP1-PMS2P11 8.13866              8.56563           \n",
       "BAD                    7.27109              6.34759           \n",
       "PRPF8                  9.99797             10.66240           \n",
       "                       GSM1030970_1509.CEL GSM1030971_1524.CEL ⋯\n",
       "PAX8                   8.11578             8.18438             ⋯\n",
       "CCL5                   9.11314             7.51884             ⋯\n",
       "MMP14                  6.55267             6.79243             ⋯\n",
       "DTX2P1-UPK3BP1-PMS2P11 7.87479             7.76304             ⋯\n",
       "BAD                    5.37534             4.98609             ⋯\n",
       "PRPF8                  9.52855             9.17292             ⋯\n",
       "                       GSM924570_LfL2004_424.CEL GSM924571_LfL2004_426.CEL\n",
       "PAX8                   7.10595                   7.91310                  \n",
       "CCL5                   9.73433                   8.19256                  \n",
       "MMP14                  5.54289                   6.59639                  \n",
       "DTX2P1-UPK3BP1-PMS2P11 7.57276                   8.10639                  \n",
       "BAD                    4.90018                   4.58021                  \n",
       "PRPF8                  9.06694                   9.23565                  \n",
       "                       GSM924572_LfL2004_427.CEL GSM924573_LfL2004_508.CEL\n",
       "PAX8                   7.35846                   7.58868                  \n",
       "CCL5                   7.94408                   8.31446                  \n",
       "MMP14                  6.09989                   6.11176                  \n",
       "DTX2P1-UPK3BP1-PMS2P11 7.87547                   7.92185                  \n",
       "BAD                    5.49209                   6.12062                  \n",
       "PRPF8                  7.94853                   8.88408                  \n",
       "                       GSM924574_LfL2004_521.CEL GSM924575_LfL2004_529.CEL\n",
       "PAX8                   7.20894                   7.15379                  \n",
       "CCL5                   9.78055                   7.81290                  \n",
       "MMP14                  5.52058                   5.88418                  \n",
       "DTX2P1-UPK3BP1-PMS2P11 7.71894                   7.49404                  \n",
       "BAD                    5.96370                   6.41037                  \n",
       "PRPF8                  8.95960                   9.83892                  \n",
       "                       GSM924576_LfL2004_543.CEL GSM924577_LfL2004_544.CEL\n",
       "PAX8                   7.27836                   7.90197                  \n",
       "CCL5                   8.43130                   9.00389                  \n",
       "MMP14                  5.67004                   6.28643                  \n",
       "DTX2P1-UPK3BP1-PMS2P11 7.70163                   7.98879                  \n",
       "BAD                    6.16504                   5.43941                  \n",
       "PRPF8                  9.56420                   9.55271                  \n",
       "                       GSM924578_LfL2005_105.CEL GSM924579_LfL2005_106.CEL\n",
       "PAX8                    7.77710                  8.07077                  \n",
       "CCL5                   10.77250                  9.60457                  \n",
       "MMP14                   6.34328                  6.20558                  \n",
       "DTX2P1-UPK3BP1-PMS2P11  7.91903                  7.63185                  \n",
       "BAD                     6.17747                  6.94213                  \n",
       "PRPF8                   8.55952                  9.68685                  "
      ]
     },
     "metadata": {},
     "output_type": "display_data"
    },
    {
     "data": {
      "text/html": [
       "<table class=\"dataframe\">\n",
       "<caption>A matrix: 6 × 8348 of type dbl</caption>\n",
       "<thead>\n",
       "\t<tr><th></th><th scope=col>GSM1030962_10030.CEL</th><th scope=col>GSM1030963_10110.CEL</th><th scope=col>GSM1030964_10111.CEL</th><th scope=col>GSM1030965_10138.CEL</th><th scope=col>GSM1030966_1032.CEL</th><th scope=col>GSM1030967_1113.CEL</th><th scope=col>GSM1030968_1132.CEL</th><th scope=col>GSM1030969_1446.CEL</th><th scope=col>GSM1030970_1509.CEL</th><th scope=col>GSM1030971_1524.CEL</th><th scope=col>⋯</th><th scope=col>GSM924570_LfL2004_424.CEL</th><th scope=col>GSM924571_LfL2004_426.CEL</th><th scope=col>GSM924572_LfL2004_427.CEL</th><th scope=col>GSM924573_LfL2004_508.CEL</th><th scope=col>GSM924574_LfL2004_521.CEL</th><th scope=col>GSM924575_LfL2004_529.CEL</th><th scope=col>GSM924576_LfL2004_543.CEL</th><th scope=col>GSM924577_LfL2004_544.CEL</th><th scope=col>GSM924578_LfL2005_105.CEL</th><th scope=col>GSM924579_LfL2005_106.CEL</th></tr>\n",
       "</thead>\n",
       "<tbody>\n",
       "\t<tr><th scope=row>MEX3D</th><td> 3.94199</td><td> 4.04885</td><td> 4.14032</td><td> 4.00719</td><td> 3.80263</td><td> 3.56352</td><td> 3.78868</td><td> 5.51037</td><td> 4.23656</td><td> 3.97889</td><td>⋯</td><td> 4.25928</td><td> 3.88914</td><td> 3.84209</td><td> 3.99162</td><td> 4.08153</td><td> 5.80256</td><td> 3.98321</td><td> 3.72613</td><td> 3.87147</td><td> 5.31675</td></tr>\n",
       "\t<tr><th scope=row>BCAN</th><td> 7.37819</td><td> 7.57217</td><td> 7.05551</td><td> 7.53410</td><td> 6.97885</td><td> 7.09779</td><td> 7.31212</td><td> 7.17282</td><td> 7.71819</td><td> 7.10354</td><td>⋯</td><td> 6.25435</td><td> 7.29905</td><td> 6.93559</td><td> 7.26595</td><td> 6.66113</td><td> 6.49141</td><td> 6.52711</td><td> 6.80543</td><td> 6.89953</td><td> 6.39693</td></tr>\n",
       "\t<tr><th scope=row>ACTB</th><td>12.31460</td><td>12.97230</td><td>12.58840</td><td>11.13690</td><td>13.04380</td><td> 9.69503</td><td>11.75240</td><td>12.92340</td><td>11.12840</td><td>11.25230</td><td>⋯</td><td>11.52830</td><td>10.46970</td><td>11.85470</td><td>12.17640</td><td>12.24720</td><td>12.26920</td><td>12.62220</td><td>11.85290</td><td>10.30060</td><td>12.85780</td></tr>\n",
       "\t<tr><th scope=row>GAPDH</th><td>12.19230</td><td>13.12230</td><td>13.15230</td><td>11.82230</td><td>13.50330</td><td>11.56310</td><td>13.02030</td><td>12.87220</td><td>12.07150</td><td>12.04850</td><td>⋯</td><td>10.80260</td><td>10.48980</td><td>11.71430</td><td>12.82350</td><td>12.22720</td><td>12.33180</td><td>13.10320</td><td>12.42630</td><td>12.07260</td><td>13.26700</td></tr>\n",
       "\t<tr><th scope=row>MIR3648-2</th><td> 5.14609</td><td> 6.94468</td><td> 6.75634</td><td> 4.16825</td><td> 5.19974</td><td> 4.36405</td><td> 6.89726</td><td> 5.75249</td><td> 4.81597</td><td> 3.95710</td><td>⋯</td><td> 6.76329</td><td> 6.77307</td><td> 7.01761</td><td> 8.40861</td><td> 6.85906</td><td> 5.34932</td><td> 6.02310</td><td> 8.15306</td><td>13.59110</td><td> 5.86773</td></tr>\n",
       "\t<tr><th scope=row>MIR3648-1</th><td> 4.51915</td><td> 6.19253</td><td> 6.37648</td><td> 4.38011</td><td> 5.15342</td><td> 3.47498</td><td> 6.89337</td><td> 5.46476</td><td> 4.44112</td><td> 4.28932</td><td>⋯</td><td> 6.36579</td><td> 6.55005</td><td> 6.99596</td><td> 8.01971</td><td> 6.78035</td><td> 6.17282</td><td> 6.47611</td><td> 8.11232</td><td>10.50680</td><td> 6.23468</td></tr>\n",
       "</tbody>\n",
       "</table>\n"
      ],
      "text/latex": [
       "A matrix: 6 × 8348 of type dbl\n",
       "\\begin{tabular}{r|lllllllllllllllllllll}\n",
       "  & GSM1030962\\_10030.CEL & GSM1030963\\_10110.CEL & GSM1030964\\_10111.CEL & GSM1030965\\_10138.CEL & GSM1030966\\_1032.CEL & GSM1030967\\_1113.CEL & GSM1030968\\_1132.CEL & GSM1030969\\_1446.CEL & GSM1030970\\_1509.CEL & GSM1030971\\_1524.CEL & ⋯ & GSM924570\\_LfL2004\\_424.CEL & GSM924571\\_LfL2004\\_426.CEL & GSM924572\\_LfL2004\\_427.CEL & GSM924573\\_LfL2004\\_508.CEL & GSM924574\\_LfL2004\\_521.CEL & GSM924575\\_LfL2004\\_529.CEL & GSM924576\\_LfL2004\\_543.CEL & GSM924577\\_LfL2004\\_544.CEL & GSM924578\\_LfL2005\\_105.CEL & GSM924579\\_LfL2005\\_106.CEL\\\\\n",
       "\\hline\n",
       "\tMEX3D &  3.94199 &  4.04885 &  4.14032 &  4.00719 &  3.80263 &  3.56352 &  3.78868 &  5.51037 &  4.23656 &  3.97889 & ⋯ &  4.25928 &  3.88914 &  3.84209 &  3.99162 &  4.08153 &  5.80256 &  3.98321 &  3.72613 &  3.87147 &  5.31675\\\\\n",
       "\tBCAN &  7.37819 &  7.57217 &  7.05551 &  7.53410 &  6.97885 &  7.09779 &  7.31212 &  7.17282 &  7.71819 &  7.10354 & ⋯ &  6.25435 &  7.29905 &  6.93559 &  7.26595 &  6.66113 &  6.49141 &  6.52711 &  6.80543 &  6.89953 &  6.39693\\\\\n",
       "\tACTB & 12.31460 & 12.97230 & 12.58840 & 11.13690 & 13.04380 &  9.69503 & 11.75240 & 12.92340 & 11.12840 & 11.25230 & ⋯ & 11.52830 & 10.46970 & 11.85470 & 12.17640 & 12.24720 & 12.26920 & 12.62220 & 11.85290 & 10.30060 & 12.85780\\\\\n",
       "\tGAPDH & 12.19230 & 13.12230 & 13.15230 & 11.82230 & 13.50330 & 11.56310 & 13.02030 & 12.87220 & 12.07150 & 12.04850 & ⋯ & 10.80260 & 10.48980 & 11.71430 & 12.82350 & 12.22720 & 12.33180 & 13.10320 & 12.42630 & 12.07260 & 13.26700\\\\\n",
       "\tMIR3648-2 &  5.14609 &  6.94468 &  6.75634 &  4.16825 &  5.19974 &  4.36405 &  6.89726 &  5.75249 &  4.81597 &  3.95710 & ⋯ &  6.76329 &  6.77307 &  7.01761 &  8.40861 &  6.85906 &  5.34932 &  6.02310 &  8.15306 & 13.59110 &  5.86773\\\\\n",
       "\tMIR3648-1 &  4.51915 &  6.19253 &  6.37648 &  4.38011 &  5.15342 &  3.47498 &  6.89337 &  5.46476 &  4.44112 &  4.28932 & ⋯ &  6.36579 &  6.55005 &  6.99596 &  8.01971 &  6.78035 &  6.17282 &  6.47611 &  8.11232 & 10.50680 &  6.23468\\\\\n",
       "\\end{tabular}\n"
      ],
      "text/markdown": [
       "\n",
       "A matrix: 6 × 8348 of type dbl\n",
       "\n",
       "| <!--/--> | GSM1030962_10030.CEL | GSM1030963_10110.CEL | GSM1030964_10111.CEL | GSM1030965_10138.CEL | GSM1030966_1032.CEL | GSM1030967_1113.CEL | GSM1030968_1132.CEL | GSM1030969_1446.CEL | GSM1030970_1509.CEL | GSM1030971_1524.CEL | ⋯ | GSM924570_LfL2004_424.CEL | GSM924571_LfL2004_426.CEL | GSM924572_LfL2004_427.CEL | GSM924573_LfL2004_508.CEL | GSM924574_LfL2004_521.CEL | GSM924575_LfL2004_529.CEL | GSM924576_LfL2004_543.CEL | GSM924577_LfL2004_544.CEL | GSM924578_LfL2005_105.CEL | GSM924579_LfL2005_106.CEL |\n",
       "|---|---|---|---|---|---|---|---|---|---|---|---|---|---|---|---|---|---|---|---|---|---|\n",
       "| MEX3D |  3.94199 |  4.04885 |  4.14032 |  4.00719 |  3.80263 |  3.56352 |  3.78868 |  5.51037 |  4.23656 |  3.97889 | ⋯ |  4.25928 |  3.88914 |  3.84209 |  3.99162 |  4.08153 |  5.80256 |  3.98321 |  3.72613 |  3.87147 |  5.31675 |\n",
       "| BCAN |  7.37819 |  7.57217 |  7.05551 |  7.53410 |  6.97885 |  7.09779 |  7.31212 |  7.17282 |  7.71819 |  7.10354 | ⋯ |  6.25435 |  7.29905 |  6.93559 |  7.26595 |  6.66113 |  6.49141 |  6.52711 |  6.80543 |  6.89953 |  6.39693 |\n",
       "| ACTB | 12.31460 | 12.97230 | 12.58840 | 11.13690 | 13.04380 |  9.69503 | 11.75240 | 12.92340 | 11.12840 | 11.25230 | ⋯ | 11.52830 | 10.46970 | 11.85470 | 12.17640 | 12.24720 | 12.26920 | 12.62220 | 11.85290 | 10.30060 | 12.85780 |\n",
       "| GAPDH | 12.19230 | 13.12230 | 13.15230 | 11.82230 | 13.50330 | 11.56310 | 13.02030 | 12.87220 | 12.07150 | 12.04850 | ⋯ | 10.80260 | 10.48980 | 11.71430 | 12.82350 | 12.22720 | 12.33180 | 13.10320 | 12.42630 | 12.07260 | 13.26700 |\n",
       "| MIR3648-2 |  5.14609 |  6.94468 |  6.75634 |  4.16825 |  5.19974 |  4.36405 |  6.89726 |  5.75249 |  4.81597 |  3.95710 | ⋯ |  6.76329 |  6.77307 |  7.01761 |  8.40861 |  6.85906 |  5.34932 |  6.02310 |  8.15306 | 13.59110 |  5.86773 |\n",
       "| MIR3648-1 |  4.51915 |  6.19253 |  6.37648 |  4.38011 |  5.15342 |  3.47498 |  6.89337 |  5.46476 |  4.44112 |  4.28932 | ⋯ |  6.36579 |  6.55005 |  6.99596 |  8.01971 |  6.78035 |  6.17282 |  6.47611 |  8.11232 | 10.50680 |  6.23468 |\n",
       "\n"
      ],
      "text/plain": [
       "          GSM1030962_10030.CEL GSM1030963_10110.CEL GSM1030964_10111.CEL\n",
       "MEX3D      3.94199              4.04885              4.14032            \n",
       "BCAN       7.37819              7.57217              7.05551            \n",
       "ACTB      12.31460             12.97230             12.58840            \n",
       "GAPDH     12.19230             13.12230             13.15230            \n",
       "MIR3648-2  5.14609              6.94468              6.75634            \n",
       "MIR3648-1  4.51915              6.19253              6.37648            \n",
       "          GSM1030965_10138.CEL GSM1030966_1032.CEL GSM1030967_1113.CEL\n",
       "MEX3D      4.00719              3.80263             3.56352           \n",
       "BCAN       7.53410              6.97885             7.09779           \n",
       "ACTB      11.13690             13.04380             9.69503           \n",
       "GAPDH     11.82230             13.50330            11.56310           \n",
       "MIR3648-2  4.16825              5.19974             4.36405           \n",
       "MIR3648-1  4.38011              5.15342             3.47498           \n",
       "          GSM1030968_1132.CEL GSM1030969_1446.CEL GSM1030970_1509.CEL\n",
       "MEX3D      3.78868             5.51037             4.23656           \n",
       "BCAN       7.31212             7.17282             7.71819           \n",
       "ACTB      11.75240            12.92340            11.12840           \n",
       "GAPDH     13.02030            12.87220            12.07150           \n",
       "MIR3648-2  6.89726             5.75249             4.81597           \n",
       "MIR3648-1  6.89337             5.46476             4.44112           \n",
       "          GSM1030971_1524.CEL ⋯ GSM924570_LfL2004_424.CEL\n",
       "MEX3D      3.97889            ⋯  4.25928                 \n",
       "BCAN       7.10354            ⋯  6.25435                 \n",
       "ACTB      11.25230            ⋯ 11.52830                 \n",
       "GAPDH     12.04850            ⋯ 10.80260                 \n",
       "MIR3648-2  3.95710            ⋯  6.76329                 \n",
       "MIR3648-1  4.28932            ⋯  6.36579                 \n",
       "          GSM924571_LfL2004_426.CEL GSM924572_LfL2004_427.CEL\n",
       "MEX3D      3.88914                   3.84209                 \n",
       "BCAN       7.29905                   6.93559                 \n",
       "ACTB      10.46970                  11.85470                 \n",
       "GAPDH     10.48980                  11.71430                 \n",
       "MIR3648-2  6.77307                   7.01761                 \n",
       "MIR3648-1  6.55005                   6.99596                 \n",
       "          GSM924573_LfL2004_508.CEL GSM924574_LfL2004_521.CEL\n",
       "MEX3D      3.99162                   4.08153                 \n",
       "BCAN       7.26595                   6.66113                 \n",
       "ACTB      12.17640                  12.24720                 \n",
       "GAPDH     12.82350                  12.22720                 \n",
       "MIR3648-2  8.40861                   6.85906                 \n",
       "MIR3648-1  8.01971                   6.78035                 \n",
       "          GSM924575_LfL2004_529.CEL GSM924576_LfL2004_543.CEL\n",
       "MEX3D      5.80256                   3.98321                 \n",
       "BCAN       6.49141                   6.52711                 \n",
       "ACTB      12.26920                  12.62220                 \n",
       "GAPDH     12.33180                  13.10320                 \n",
       "MIR3648-2  5.34932                   6.02310                 \n",
       "MIR3648-1  6.17282                   6.47611                 \n",
       "          GSM924577_LfL2004_544.CEL GSM924578_LfL2005_105.CEL\n",
       "MEX3D      3.72613                   3.87147                 \n",
       "BCAN       6.80543                   6.89953                 \n",
       "ACTB      11.85290                  10.30060                 \n",
       "GAPDH     12.42630                  12.07260                 \n",
       "MIR3648-2  8.15306                  13.59110                 \n",
       "MIR3648-1  8.11232                  10.50680                 \n",
       "          GSM924579_LfL2005_106.CEL\n",
       "MEX3D      5.31675                 \n",
       "BCAN       6.39693                 \n",
       "ACTB      12.85780                 \n",
       "GAPDH     13.26700                 \n",
       "MIR3648-2  5.86773                 \n",
       "MIR3648-1  6.23468                 "
      ]
     },
     "metadata": {},
     "output_type": "display_data"
    },
    {
     "data": {
      "text/html": [
       "'info.2:'"
      ],
      "text/latex": [
       "'info.2:'"
      ],
      "text/markdown": [
       "'info.2:'"
      ],
      "text/plain": [
       "[1] \"info.2:\""
      ]
     },
     "metadata": {},
     "output_type": "display_data"
    },
    {
     "data": {
      "text/html": [
       "'data.frame'"
      ],
      "text/latex": [
       "'data.frame'"
      ],
      "text/markdown": [
       "'data.frame'"
      ],
      "text/plain": [
       "[1] \"data.frame\""
      ]
     },
     "metadata": {},
     "output_type": "display_data"
    },
    {
     "data": {
      "text/html": [
       "<style>\n",
       ".list-inline {list-style: none; margin:0; padding: 0}\n",
       ".list-inline>li {display: inline-block}\n",
       ".list-inline>li:not(:last-child)::after {content: \"\\00b7\"; padding: 0 .5ex}\n",
       "</style>\n",
       "<ol class=list-inline><li>8348</li><li>8</li></ol>\n"
      ],
      "text/latex": [
       "\\begin{enumerate*}\n",
       "\\item 8348\n",
       "\\item 8\n",
       "\\end{enumerate*}\n"
      ],
      "text/markdown": [
       "1. 8348\n",
       "2. 8\n",
       "\n",
       "\n"
      ],
      "text/plain": [
       "[1] 8348    8"
      ]
     },
     "metadata": {},
     "output_type": "display_data"
    },
    {
     "data": {
      "text/html": [
       "<table class=\"dataframe\">\n",
       "<caption>A data.frame: 6 × 8</caption>\n",
       "<thead>\n",
       "\t<tr><th></th><th scope=col>Dataset</th><th scope=col>GSE</th><th scope=col>Condition</th><th scope=col>Disease</th><th scope=col>Tissue</th><th scope=col>FAB</th><th scope=col>Filename</th><th scope=col>FAB_all</th></tr>\n",
       "\t<tr><th></th><th scope=col>&lt;dbl&gt;</th><th scope=col>&lt;fct&gt;</th><th scope=col>&lt;fct&gt;</th><th scope=col>&lt;fct&gt;</th><th scope=col>&lt;fct&gt;</th><th scope=col>&lt;chr&gt;</th><th scope=col>&lt;chr&gt;</th><th scope=col>&lt;chr&gt;</th></tr>\n",
       "</thead>\n",
       "<tbody>\n",
       "\t<tr><th scope=row>GSM1030962_10030.CEL</th><td>2</td><td>GSE42038</td><td>CONTROL</td><td>ALL</td><td>BM  </td><td>unknown</td><td>GSM1030962_10030.CEL</td><td>unknown</td></tr>\n",
       "\t<tr><th scope=row>GSM1030963_10110.CEL</th><td>2</td><td>GSE42038</td><td>CONTROL</td><td>ALL</td><td>PBMC</td><td>unknown</td><td>GSM1030963_10110.CEL</td><td>unknown</td></tr>\n",
       "\t<tr><th scope=row>GSM1030964_10111.CEL</th><td>2</td><td>GSE42038</td><td>CONTROL</td><td>ALL</td><td>BM  </td><td>unknown</td><td>GSM1030964_10111.CEL</td><td>unknown</td></tr>\n",
       "\t<tr><th scope=row>GSM1030965_10138.CEL</th><td>2</td><td>GSE42038</td><td>CONTROL</td><td>ALL</td><td>BM  </td><td>unknown</td><td>GSM1030965_10138.CEL</td><td>unknown</td></tr>\n",
       "\t<tr><th scope=row>GSM1030966_1032.CEL</th><td>2</td><td>GSE42038</td><td>CONTROL</td><td>ALL</td><td>BM  </td><td>unknown</td><td>GSM1030966_1032.CEL </td><td>unknown</td></tr>\n",
       "\t<tr><th scope=row>GSM1030967_1113.CEL</th><td>2</td><td>GSE42038</td><td>CONTROL</td><td>ALL</td><td>BM  </td><td>unknown</td><td>GSM1030967_1113.CEL </td><td>unknown</td></tr>\n",
       "</tbody>\n",
       "</table>\n"
      ],
      "text/latex": [
       "A data.frame: 6 × 8\n",
       "\\begin{tabular}{r|llllllll}\n",
       "  & Dataset & GSE & Condition & Disease & Tissue & FAB & Filename & FAB\\_all\\\\\n",
       "  & <dbl> & <fct> & <fct> & <fct> & <fct> & <chr> & <chr> & <chr>\\\\\n",
       "\\hline\n",
       "\tGSM1030962\\_10030.CEL & 2 & GSE42038 & CONTROL & ALL & BM   & unknown & GSM1030962\\_10030.CEL & unknown\\\\\n",
       "\tGSM1030963\\_10110.CEL & 2 & GSE42038 & CONTROL & ALL & PBMC & unknown & GSM1030963\\_10110.CEL & unknown\\\\\n",
       "\tGSM1030964\\_10111.CEL & 2 & GSE42038 & CONTROL & ALL & BM   & unknown & GSM1030964\\_10111.CEL & unknown\\\\\n",
       "\tGSM1030965\\_10138.CEL & 2 & GSE42038 & CONTROL & ALL & BM   & unknown & GSM1030965\\_10138.CEL & unknown\\\\\n",
       "\tGSM1030966\\_1032.CEL & 2 & GSE42038 & CONTROL & ALL & BM   & unknown & GSM1030966\\_1032.CEL  & unknown\\\\\n",
       "\tGSM1030967\\_1113.CEL & 2 & GSE42038 & CONTROL & ALL & BM   & unknown & GSM1030967\\_1113.CEL  & unknown\\\\\n",
       "\\end{tabular}\n"
      ],
      "text/markdown": [
       "\n",
       "A data.frame: 6 × 8\n",
       "\n",
       "| <!--/--> | Dataset &lt;dbl&gt; | GSE &lt;fct&gt; | Condition &lt;fct&gt; | Disease &lt;fct&gt; | Tissue &lt;fct&gt; | FAB &lt;chr&gt; | Filename &lt;chr&gt; | FAB_all &lt;chr&gt; |\n",
       "|---|---|---|---|---|---|---|---|---|\n",
       "| GSM1030962_10030.CEL | 2 | GSE42038 | CONTROL | ALL | BM   | unknown | GSM1030962_10030.CEL | unknown |\n",
       "| GSM1030963_10110.CEL | 2 | GSE42038 | CONTROL | ALL | PBMC | unknown | GSM1030963_10110.CEL | unknown |\n",
       "| GSM1030964_10111.CEL | 2 | GSE42038 | CONTROL | ALL | BM   | unknown | GSM1030964_10111.CEL | unknown |\n",
       "| GSM1030965_10138.CEL | 2 | GSE42038 | CONTROL | ALL | BM   | unknown | GSM1030965_10138.CEL | unknown |\n",
       "| GSM1030966_1032.CEL | 2 | GSE42038 | CONTROL | ALL | BM   | unknown | GSM1030966_1032.CEL  | unknown |\n",
       "| GSM1030967_1113.CEL | 2 | GSE42038 | CONTROL | ALL | BM   | unknown | GSM1030967_1113.CEL  | unknown |\n",
       "\n"
      ],
      "text/plain": [
       "                     Dataset GSE      Condition Disease Tissue FAB    \n",
       "GSM1030962_10030.CEL 2       GSE42038 CONTROL   ALL     BM     unknown\n",
       "GSM1030963_10110.CEL 2       GSE42038 CONTROL   ALL     PBMC   unknown\n",
       "GSM1030964_10111.CEL 2       GSE42038 CONTROL   ALL     BM     unknown\n",
       "GSM1030965_10138.CEL 2       GSE42038 CONTROL   ALL     BM     unknown\n",
       "GSM1030966_1032.CEL  2       GSE42038 CONTROL   ALL     BM     unknown\n",
       "GSM1030967_1113.CEL  2       GSE42038 CONTROL   ALL     BM     unknown\n",
       "                     Filename             FAB_all\n",
       "GSM1030962_10030.CEL GSM1030962_10030.CEL unknown\n",
       "GSM1030963_10110.CEL GSM1030963_10110.CEL unknown\n",
       "GSM1030964_10111.CEL GSM1030964_10111.CEL unknown\n",
       "GSM1030965_10138.CEL GSM1030965_10138.CEL unknown\n",
       "GSM1030966_1032.CEL  GSM1030966_1032.CEL  unknown\n",
       "GSM1030967_1113.CEL  GSM1030967_1113.CEL  unknown"
      ]
     },
     "metadata": {},
     "output_type": "display_data"
    },
    {
     "data": {
      "text/html": [
       "<table class=\"dataframe\">\n",
       "<caption>A data.frame: 6 × 8</caption>\n",
       "<thead>\n",
       "\t<tr><th></th><th scope=col>Dataset</th><th scope=col>GSE</th><th scope=col>Condition</th><th scope=col>Disease</th><th scope=col>Tissue</th><th scope=col>FAB</th><th scope=col>Filename</th><th scope=col>FAB_all</th></tr>\n",
       "\t<tr><th></th><th scope=col>&lt;dbl&gt;</th><th scope=col>&lt;fct&gt;</th><th scope=col>&lt;fct&gt;</th><th scope=col>&lt;fct&gt;</th><th scope=col>&lt;fct&gt;</th><th scope=col>&lt;chr&gt;</th><th scope=col>&lt;chr&gt;</th><th scope=col>&lt;chr&gt;</th></tr>\n",
       "</thead>\n",
       "<tbody>\n",
       "\t<tr><th scope=row>GSM924574_LfL2004_521.CEL</th><td>2</td><td>GSE37642</td><td>CASE</td><td>AML</td><td>BM</td><td>M4</td><td>GSM924574_LfL2004_521.CEL</td><td>M4</td></tr>\n",
       "\t<tr><th scope=row>GSM924575_LfL2004_529.CEL</th><td>2</td><td>GSE37642</td><td>CASE</td><td>AML</td><td>BM</td><td>M1</td><td>GSM924575_LfL2004_529.CEL</td><td>M1</td></tr>\n",
       "\t<tr><th scope=row>GSM924576_LfL2004_543.CEL</th><td>2</td><td>GSE37642</td><td>CASE</td><td>AML</td><td>BM</td><td>M2</td><td>GSM924576_LfL2004_543.CEL</td><td>M2</td></tr>\n",
       "\t<tr><th scope=row>GSM924577_LfL2004_544.CEL</th><td>2</td><td>GSE37642</td><td>CASE</td><td>AML</td><td>BM</td><td>M1</td><td>GSM924577_LfL2004_544.CEL</td><td>M1</td></tr>\n",
       "\t<tr><th scope=row>GSM924578_LfL2005_105.CEL</th><td>2</td><td>GSE37642</td><td>CASE</td><td>AML</td><td>BM</td><td>M0</td><td>GSM924578_LfL2005_105.CEL</td><td>M0</td></tr>\n",
       "\t<tr><th scope=row>GSM924579_LfL2005_106.CEL</th><td>2</td><td>GSE37642</td><td>CASE</td><td>AML</td><td>BM</td><td>M5</td><td>GSM924579_LfL2005_106.CEL</td><td>M5</td></tr>\n",
       "</tbody>\n",
       "</table>\n"
      ],
      "text/latex": [
       "A data.frame: 6 × 8\n",
       "\\begin{tabular}{r|llllllll}\n",
       "  & Dataset & GSE & Condition & Disease & Tissue & FAB & Filename & FAB\\_all\\\\\n",
       "  & <dbl> & <fct> & <fct> & <fct> & <fct> & <chr> & <chr> & <chr>\\\\\n",
       "\\hline\n",
       "\tGSM924574\\_LfL2004\\_521.CEL & 2 & GSE37642 & CASE & AML & BM & M4 & GSM924574\\_LfL2004\\_521.CEL & M4\\\\\n",
       "\tGSM924575\\_LfL2004\\_529.CEL & 2 & GSE37642 & CASE & AML & BM & M1 & GSM924575\\_LfL2004\\_529.CEL & M1\\\\\n",
       "\tGSM924576\\_LfL2004\\_543.CEL & 2 & GSE37642 & CASE & AML & BM & M2 & GSM924576\\_LfL2004\\_543.CEL & M2\\\\\n",
       "\tGSM924577\\_LfL2004\\_544.CEL & 2 & GSE37642 & CASE & AML & BM & M1 & GSM924577\\_LfL2004\\_544.CEL & M1\\\\\n",
       "\tGSM924578\\_LfL2005\\_105.CEL & 2 & GSE37642 & CASE & AML & BM & M0 & GSM924578\\_LfL2005\\_105.CEL & M0\\\\\n",
       "\tGSM924579\\_LfL2005\\_106.CEL & 2 & GSE37642 & CASE & AML & BM & M5 & GSM924579\\_LfL2005\\_106.CEL & M5\\\\\n",
       "\\end{tabular}\n"
      ],
      "text/markdown": [
       "\n",
       "A data.frame: 6 × 8\n",
       "\n",
       "| <!--/--> | Dataset &lt;dbl&gt; | GSE &lt;fct&gt; | Condition &lt;fct&gt; | Disease &lt;fct&gt; | Tissue &lt;fct&gt; | FAB &lt;chr&gt; | Filename &lt;chr&gt; | FAB_all &lt;chr&gt; |\n",
       "|---|---|---|---|---|---|---|---|---|\n",
       "| GSM924574_LfL2004_521.CEL | 2 | GSE37642 | CASE | AML | BM | M4 | GSM924574_LfL2004_521.CEL | M4 |\n",
       "| GSM924575_LfL2004_529.CEL | 2 | GSE37642 | CASE | AML | BM | M1 | GSM924575_LfL2004_529.CEL | M1 |\n",
       "| GSM924576_LfL2004_543.CEL | 2 | GSE37642 | CASE | AML | BM | M2 | GSM924576_LfL2004_543.CEL | M2 |\n",
       "| GSM924577_LfL2004_544.CEL | 2 | GSE37642 | CASE | AML | BM | M1 | GSM924577_LfL2004_544.CEL | M1 |\n",
       "| GSM924578_LfL2005_105.CEL | 2 | GSE37642 | CASE | AML | BM | M0 | GSM924578_LfL2005_105.CEL | M0 |\n",
       "| GSM924579_LfL2005_106.CEL | 2 | GSE37642 | CASE | AML | BM | M5 | GSM924579_LfL2005_106.CEL | M5 |\n",
       "\n"
      ],
      "text/plain": [
       "                          Dataset GSE      Condition Disease Tissue FAB\n",
       "GSM924574_LfL2004_521.CEL 2       GSE37642 CASE      AML     BM     M4 \n",
       "GSM924575_LfL2004_529.CEL 2       GSE37642 CASE      AML     BM     M1 \n",
       "GSM924576_LfL2004_543.CEL 2       GSE37642 CASE      AML     BM     M2 \n",
       "GSM924577_LfL2004_544.CEL 2       GSE37642 CASE      AML     BM     M1 \n",
       "GSM924578_LfL2005_105.CEL 2       GSE37642 CASE      AML     BM     M0 \n",
       "GSM924579_LfL2005_106.CEL 2       GSE37642 CASE      AML     BM     M5 \n",
       "                          Filename                  FAB_all\n",
       "GSM924574_LfL2004_521.CEL GSM924574_LfL2004_521.CEL M4     \n",
       "GSM924575_LfL2004_529.CEL GSM924575_LfL2004_529.CEL M1     \n",
       "GSM924576_LfL2004_543.CEL GSM924576_LfL2004_543.CEL M2     \n",
       "GSM924577_LfL2004_544.CEL GSM924577_LfL2004_544.CEL M1     \n",
       "GSM924578_LfL2005_105.CEL GSM924578_LfL2005_105.CEL M0     \n",
       "GSM924579_LfL2005_106.CEL GSM924579_LfL2005_106.CEL M5     "
      ]
     },
     "metadata": {},
     "output_type": "display_data"
    }
   ],
   "source": [
    "# Check data dimensions and format\n",
    "paste('data.1:')\n",
    "class(data.1)\n",
    "dim(data.1)\n",
    "head(data.1)\n",
    "tail(data.1)\n",
    "paste('info.1:')\n",
    "class(info.1)\n",
    "dim(info.1)\n",
    "head(info.1)\n",
    "tail(info.1)\n",
    "paste('data.2:')\n",
    "class(data.2)\n",
    "dim(data.2)\n",
    "head(data.2)\n",
    "tail(data.2)\n",
    "paste('info.2:')\n",
    "class(info.2)\n",
    "dim(info.2)\n",
    "head(info.2)\n",
    "tail(info.2)"
   ]
  },
  {
   "cell_type": "code",
   "execution_count": 3,
   "metadata": {
    "vscode": {
     "languageId": "r"
    }
   },
   "outputs": [
    {
     "data": {
      "text/html": [
       "<style>\n",
       ".list-inline {list-style: none; margin:0; padding: 0}\n",
       ".list-inline>li {display: inline-block}\n",
       ".list-inline>li:not(:last-child)::after {content: \"\\00b7\"; padding: 0 .5ex}\n",
       "</style>\n",
       "<ol class=list-inline><li>2500</li><li>12717</li></ol>\n"
      ],
      "text/latex": [
       "\\begin{enumerate*}\n",
       "\\item 2500\n",
       "\\item 12717\n",
       "\\end{enumerate*}\n"
      ],
      "text/markdown": [
       "1. 2500\n",
       "2. 12717\n",
       "\n",
       "\n"
      ],
      "text/plain": [
       "[1]  2500 12717"
      ]
     },
     "metadata": {},
     "output_type": "display_data"
    },
    {
     "data": {
      "text/html": [
       "<style>\n",
       ".list-inline {list-style: none; margin:0; padding: 0}\n",
       ".list-inline>li {display: inline-block}\n",
       ".list-inline>li:not(:last-child)::after {content: \"\\00b7\"; padding: 0 .5ex}\n",
       "</style>\n",
       "<ol class=list-inline><li>8348</li><li>12717</li></ol>\n"
      ],
      "text/latex": [
       "\\begin{enumerate*}\n",
       "\\item 8348\n",
       "\\item 12717\n",
       "\\end{enumerate*}\n"
      ],
      "text/markdown": [
       "1. 8348\n",
       "2. 12717\n",
       "\n",
       "\n"
      ],
      "text/plain": [
       "[1]  8348 12717"
      ]
     },
     "metadata": {},
     "output_type": "display_data"
    },
    {
     "data": {
      "text/html": [
       "<style>\n",
       ".list-inline {list-style: none; margin:0; padding: 0}\n",
       ".list-inline>li {display: inline-block}\n",
       ".list-inline>li:not(:last-child)::after {content: \"\\00b7\"; padding: 0 .5ex}\n",
       "</style>\n",
       "<ol class=list-inline><li>10848</li><li>12717</li></ol>\n"
      ],
      "text/latex": [
       "\\begin{enumerate*}\n",
       "\\item 10848\n",
       "\\item 12717\n",
       "\\end{enumerate*}\n"
      ],
      "text/markdown": [
       "1. 10848\n",
       "2. 12717\n",
       "\n",
       "\n"
      ],
      "text/plain": [
       "[1] 10848 12717"
      ]
     },
     "metadata": {},
     "output_type": "display_data"
    },
    {
     "data": {
      "text/html": [
       "<table class=\"dataframe\">\n",
       "<caption>A data.frame: 6 × 12717</caption>\n",
       "<thead>\n",
       "\t<tr><th></th><th scope=col>Row.names</th><th scope=col>PAX8</th><th scope=col>CCL5</th><th scope=col>MMP14</th><th scope=col>DTX2P1-UPK3BP1-PMS2P11</th><th scope=col>BAD</th><th scope=col>PRPF8</th><th scope=col>CAPNS1</th><th scope=col>RPL35</th><th scope=col>EIF4G2</th><th scope=col>⋯</th><th scope=col>MIR3648-2</th><th scope=col>MIR3648-1</th><th scope=col>Dataset</th><th scope=col>GSE</th><th scope=col>Condition</th><th scope=col>Disease</th><th scope=col>Tissue</th><th scope=col>FAB</th><th scope=col>Filename</th><th scope=col>FAB_all</th></tr>\n",
       "\t<tr><th></th><th scope=col>&lt;I&lt;chr&gt;&gt;</th><th scope=col>&lt;dbl&gt;</th><th scope=col>&lt;dbl&gt;</th><th scope=col>&lt;dbl&gt;</th><th scope=col>&lt;dbl&gt;</th><th scope=col>&lt;dbl&gt;</th><th scope=col>&lt;dbl&gt;</th><th scope=col>&lt;dbl&gt;</th><th scope=col>&lt;dbl&gt;</th><th scope=col>&lt;dbl&gt;</th><th scope=col>⋯</th><th scope=col>&lt;dbl&gt;</th><th scope=col>&lt;dbl&gt;</th><th scope=col>&lt;dbl&gt;</th><th scope=col>&lt;fct&gt;</th><th scope=col>&lt;fct&gt;</th><th scope=col>&lt;fct&gt;</th><th scope=col>&lt;fct&gt;</th><th scope=col>&lt;chr&gt;</th><th scope=col>&lt;chr&gt;</th><th scope=col>&lt;chr&gt;</th></tr>\n",
       "</thead>\n",
       "<tbody>\n",
       "\t<tr><th scope=row>1</th><td>AHW_ALL_BA_025919_13_A_PZ.CEL </td><td>9.221573</td><td>7.990144</td><td>8.391732</td><td>9.280415</td><td>5.579486</td><td> 9.587992</td><td>10.143771</td><td>11.36457</td><td>10.95629</td><td>⋯</td><td> 6.373859</td><td> 6.086670</td><td>1</td><td>Haferlach</td><td>CONTROL</td><td>ALL</td><td>BM or PBMC</td><td>unknown</td><td>AHW_ALL_BA_025919_13_A_PZ.CEL </td><td>unknown</td></tr>\n",
       "\t<tr><th scope=row>2</th><td>AHW_ALL_BA_032751_71_A_PZ.CEL </td><td>8.524435</td><td>6.648112</td><td>8.183514</td><td>8.798847</td><td>5.934621</td><td>10.605028</td><td>10.613034</td><td>11.66462</td><td>11.63216</td><td>⋯</td><td> 6.572640</td><td> 7.823704</td><td>1</td><td>Haferlach</td><td>CONTROL</td><td>ALL</td><td>BM or PBMC</td><td>unknown</td><td>AHW_ALL_BA_032751_71_A_PZ.CEL </td><td>unknown</td></tr>\n",
       "\t<tr><th scope=row>3</th><td>AHW_ALL_BN_022495_7_A_PZ.CEL  </td><td>8.606060</td><td>6.382602</td><td>7.909023</td><td>8.948909</td><td>5.646312</td><td>10.367226</td><td> 9.836321</td><td>12.08132</td><td>11.69096</td><td>⋯</td><td>11.165859</td><td>10.734375</td><td>1</td><td>Haferlach</td><td>CONTROL</td><td>ALL</td><td>BM or PBMC</td><td>unknown</td><td>AHW_ALL_BN_022495_7_A_PZ.CEL  </td><td>unknown</td></tr>\n",
       "\t<tr><th scope=row>4</th><td>AHW_ALL_MLL_031351_13_A_PZ.CEL</td><td>8.841501</td><td>6.469583</td><td>8.105744</td><td>8.941517</td><td>5.899868</td><td>10.493261</td><td>10.701126</td><td>12.02987</td><td>11.32870</td><td>⋯</td><td> 9.551800</td><td> 9.627878</td><td>1</td><td>Haferlach</td><td>CONTROL</td><td>ALL</td><td>BM or PBMC</td><td>unknown</td><td>AHW_ALL_MLL_031351_13_A_PZ.CEL</td><td>unknown</td></tr>\n",
       "\t<tr><th scope=row>5</th><td>AHW_ALL_MLL_036187_80_A_PZ.CEL</td><td>8.882826</td><td>8.332415</td><td>7.820992</td><td>8.725958</td><td>5.651731</td><td>10.684440</td><td>10.524360</td><td>11.85613</td><td>11.38861</td><td>⋯</td><td>11.295602</td><td>10.229529</td><td>1</td><td>Haferlach</td><td>CONTROL</td><td>ALL</td><td>BM or PBMC</td><td>unknown</td><td>AHW_ALL_MLL_036187_80_A_PZ.CEL</td><td>unknown</td></tr>\n",
       "\t<tr><th scope=row>6</th><td>AHW_ALL_Ph_030031_32_A_PZ.CEL </td><td>9.011544</td><td>6.830385</td><td>7.859977</td><td>8.975915</td><td>5.798776</td><td> 9.850415</td><td>10.115055</td><td>11.90956</td><td>11.19729</td><td>⋯</td><td> 5.917758</td><td> 7.607608</td><td>1</td><td>Haferlach</td><td>CONTROL</td><td>ALL</td><td>BM or PBMC</td><td>unknown</td><td>AHW_ALL_Ph_030031_32_A_PZ.CEL </td><td>unknown</td></tr>\n",
       "</tbody>\n",
       "</table>\n"
      ],
      "text/latex": [
       "A data.frame: 6 × 12717\n",
       "\\begin{tabular}{r|lllllllllllllllllllll}\n",
       "  & Row.names & PAX8 & CCL5 & MMP14 & DTX2P1-UPK3BP1-PMS2P11 & BAD & PRPF8 & CAPNS1 & RPL35 & EIF4G2 & ⋯ & MIR3648-2 & MIR3648-1 & Dataset & GSE & Condition & Disease & Tissue & FAB & Filename & FAB\\_all\\\\\n",
       "  & <I<chr>> & <dbl> & <dbl> & <dbl> & <dbl> & <dbl> & <dbl> & <dbl> & <dbl> & <dbl> & ⋯ & <dbl> & <dbl> & <dbl> & <fct> & <fct> & <fct> & <fct> & <chr> & <chr> & <chr>\\\\\n",
       "\\hline\n",
       "\t1 & AHW\\_ALL\\_BA\\_025919\\_13\\_A\\_PZ.CEL  & 9.221573 & 7.990144 & 8.391732 & 9.280415 & 5.579486 &  9.587992 & 10.143771 & 11.36457 & 10.95629 & ⋯ &  6.373859 &  6.086670 & 1 & Haferlach & CONTROL & ALL & BM or PBMC & unknown & AHW\\_ALL\\_BA\\_025919\\_13\\_A\\_PZ.CEL  & unknown\\\\\n",
       "\t2 & AHW\\_ALL\\_BA\\_032751\\_71\\_A\\_PZ.CEL  & 8.524435 & 6.648112 & 8.183514 & 8.798847 & 5.934621 & 10.605028 & 10.613034 & 11.66462 & 11.63216 & ⋯ &  6.572640 &  7.823704 & 1 & Haferlach & CONTROL & ALL & BM or PBMC & unknown & AHW\\_ALL\\_BA\\_032751\\_71\\_A\\_PZ.CEL  & unknown\\\\\n",
       "\t3 & AHW\\_ALL\\_BN\\_022495\\_7\\_A\\_PZ.CEL   & 8.606060 & 6.382602 & 7.909023 & 8.948909 & 5.646312 & 10.367226 &  9.836321 & 12.08132 & 11.69096 & ⋯ & 11.165859 & 10.734375 & 1 & Haferlach & CONTROL & ALL & BM or PBMC & unknown & AHW\\_ALL\\_BN\\_022495\\_7\\_A\\_PZ.CEL   & unknown\\\\\n",
       "\t4 & AHW\\_ALL\\_MLL\\_031351\\_13\\_A\\_PZ.CEL & 8.841501 & 6.469583 & 8.105744 & 8.941517 & 5.899868 & 10.493261 & 10.701126 & 12.02987 & 11.32870 & ⋯ &  9.551800 &  9.627878 & 1 & Haferlach & CONTROL & ALL & BM or PBMC & unknown & AHW\\_ALL\\_MLL\\_031351\\_13\\_A\\_PZ.CEL & unknown\\\\\n",
       "\t5 & AHW\\_ALL\\_MLL\\_036187\\_80\\_A\\_PZ.CEL & 8.882826 & 8.332415 & 7.820992 & 8.725958 & 5.651731 & 10.684440 & 10.524360 & 11.85613 & 11.38861 & ⋯ & 11.295602 & 10.229529 & 1 & Haferlach & CONTROL & ALL & BM or PBMC & unknown & AHW\\_ALL\\_MLL\\_036187\\_80\\_A\\_PZ.CEL & unknown\\\\\n",
       "\t6 & AHW\\_ALL\\_Ph\\_030031\\_32\\_A\\_PZ.CEL  & 9.011544 & 6.830385 & 7.859977 & 8.975915 & 5.798776 &  9.850415 & 10.115055 & 11.90956 & 11.19729 & ⋯ &  5.917758 &  7.607608 & 1 & Haferlach & CONTROL & ALL & BM or PBMC & unknown & AHW\\_ALL\\_Ph\\_030031\\_32\\_A\\_PZ.CEL  & unknown\\\\\n",
       "\\end{tabular}\n"
      ],
      "text/markdown": [
       "\n",
       "A data.frame: 6 × 12717\n",
       "\n",
       "| <!--/--> | Row.names &lt;I&lt;chr&gt;&gt; | PAX8 &lt;dbl&gt; | CCL5 &lt;dbl&gt; | MMP14 &lt;dbl&gt; | DTX2P1-UPK3BP1-PMS2P11 &lt;dbl&gt; | BAD &lt;dbl&gt; | PRPF8 &lt;dbl&gt; | CAPNS1 &lt;dbl&gt; | RPL35 &lt;dbl&gt; | EIF4G2 &lt;dbl&gt; | ⋯ ⋯ | MIR3648-2 &lt;dbl&gt; | MIR3648-1 &lt;dbl&gt; | Dataset &lt;dbl&gt; | GSE &lt;fct&gt; | Condition &lt;fct&gt; | Disease &lt;fct&gt; | Tissue &lt;fct&gt; | FAB &lt;chr&gt; | Filename &lt;chr&gt; | FAB_all &lt;chr&gt; |\n",
       "|---|---|---|---|---|---|---|---|---|---|---|---|---|---|---|---|---|---|---|---|---|---|\n",
       "| 1 | AHW_ALL_BA_025919_13_A_PZ.CEL  | 9.221573 | 7.990144 | 8.391732 | 9.280415 | 5.579486 |  9.587992 | 10.143771 | 11.36457 | 10.95629 | ⋯ |  6.373859 |  6.086670 | 1 | Haferlach | CONTROL | ALL | BM or PBMC | unknown | AHW_ALL_BA_025919_13_A_PZ.CEL  | unknown |\n",
       "| 2 | AHW_ALL_BA_032751_71_A_PZ.CEL  | 8.524435 | 6.648112 | 8.183514 | 8.798847 | 5.934621 | 10.605028 | 10.613034 | 11.66462 | 11.63216 | ⋯ |  6.572640 |  7.823704 | 1 | Haferlach | CONTROL | ALL | BM or PBMC | unknown | AHW_ALL_BA_032751_71_A_PZ.CEL  | unknown |\n",
       "| 3 | AHW_ALL_BN_022495_7_A_PZ.CEL   | 8.606060 | 6.382602 | 7.909023 | 8.948909 | 5.646312 | 10.367226 |  9.836321 | 12.08132 | 11.69096 | ⋯ | 11.165859 | 10.734375 | 1 | Haferlach | CONTROL | ALL | BM or PBMC | unknown | AHW_ALL_BN_022495_7_A_PZ.CEL   | unknown |\n",
       "| 4 | AHW_ALL_MLL_031351_13_A_PZ.CEL | 8.841501 | 6.469583 | 8.105744 | 8.941517 | 5.899868 | 10.493261 | 10.701126 | 12.02987 | 11.32870 | ⋯ |  9.551800 |  9.627878 | 1 | Haferlach | CONTROL | ALL | BM or PBMC | unknown | AHW_ALL_MLL_031351_13_A_PZ.CEL | unknown |\n",
       "| 5 | AHW_ALL_MLL_036187_80_A_PZ.CEL | 8.882826 | 8.332415 | 7.820992 | 8.725958 | 5.651731 | 10.684440 | 10.524360 | 11.85613 | 11.38861 | ⋯ | 11.295602 | 10.229529 | 1 | Haferlach | CONTROL | ALL | BM or PBMC | unknown | AHW_ALL_MLL_036187_80_A_PZ.CEL | unknown |\n",
       "| 6 | AHW_ALL_Ph_030031_32_A_PZ.CEL  | 9.011544 | 6.830385 | 7.859977 | 8.975915 | 5.798776 |  9.850415 | 10.115055 | 11.90956 | 11.19729 | ⋯ |  5.917758 |  7.607608 | 1 | Haferlach | CONTROL | ALL | BM or PBMC | unknown | AHW_ALL_Ph_030031_32_A_PZ.CEL  | unknown |\n",
       "\n"
      ],
      "text/plain": [
       "  Row.names                      PAX8     CCL5     MMP14   \n",
       "1 AHW_ALL_BA_025919_13_A_PZ.CEL  9.221573 7.990144 8.391732\n",
       "2 AHW_ALL_BA_032751_71_A_PZ.CEL  8.524435 6.648112 8.183514\n",
       "3 AHW_ALL_BN_022495_7_A_PZ.CEL   8.606060 6.382602 7.909023\n",
       "4 AHW_ALL_MLL_031351_13_A_PZ.CEL 8.841501 6.469583 8.105744\n",
       "5 AHW_ALL_MLL_036187_80_A_PZ.CEL 8.882826 8.332415 7.820992\n",
       "6 AHW_ALL_Ph_030031_32_A_PZ.CEL  9.011544 6.830385 7.859977\n",
       "  DTX2P1-UPK3BP1-PMS2P11 BAD      PRPF8     CAPNS1    RPL35    EIF4G2   ⋯\n",
       "1 9.280415               5.579486  9.587992 10.143771 11.36457 10.95629 ⋯\n",
       "2 8.798847               5.934621 10.605028 10.613034 11.66462 11.63216 ⋯\n",
       "3 8.948909               5.646312 10.367226  9.836321 12.08132 11.69096 ⋯\n",
       "4 8.941517               5.899868 10.493261 10.701126 12.02987 11.32870 ⋯\n",
       "5 8.725958               5.651731 10.684440 10.524360 11.85613 11.38861 ⋯\n",
       "6 8.975915               5.798776  9.850415 10.115055 11.90956 11.19729 ⋯\n",
       "  MIR3648-2 MIR3648-1 Dataset GSE       Condition Disease Tissue     FAB    \n",
       "1  6.373859  6.086670 1       Haferlach CONTROL   ALL     BM or PBMC unknown\n",
       "2  6.572640  7.823704 1       Haferlach CONTROL   ALL     BM or PBMC unknown\n",
       "3 11.165859 10.734375 1       Haferlach CONTROL   ALL     BM or PBMC unknown\n",
       "4  9.551800  9.627878 1       Haferlach CONTROL   ALL     BM or PBMC unknown\n",
       "5 11.295602 10.229529 1       Haferlach CONTROL   ALL     BM or PBMC unknown\n",
       "6  5.917758  7.607608 1       Haferlach CONTROL   ALL     BM or PBMC unknown\n",
       "  Filename                       FAB_all\n",
       "1 AHW_ALL_BA_025919_13_A_PZ.CEL  unknown\n",
       "2 AHW_ALL_BA_032751_71_A_PZ.CEL  unknown\n",
       "3 AHW_ALL_BN_022495_7_A_PZ.CEL   unknown\n",
       "4 AHW_ALL_MLL_031351_13_A_PZ.CEL unknown\n",
       "5 AHW_ALL_MLL_036187_80_A_PZ.CEL unknown\n",
       "6 AHW_ALL_Ph_030031_32_A_PZ.CEL  unknown"
      ]
     },
     "metadata": {},
     "output_type": "display_data"
    }
   ],
   "source": [
    "# Aggregate data\n",
    "df1 = as.data.frame(t(data.1))\n",
    "df1 = merge(df1, info.1, by = 'row.names', all = T)\n",
    "dim(df1)\n",
    "df2 = as.data.frame(t(data.2))\n",
    "df2 = merge(df2, info.2, by = 'row.names', all = T)\n",
    "dim(df2)\n",
    "df = rbind(df1, df2)\n",
    "dim(df)\n",
    "head(df)"
   ]
  },
  {
   "cell_type": "code",
   "execution_count": 4,
   "metadata": {
    "vscode": {
     "languageId": "r"
    }
   },
   "outputs": [],
   "source": [
    "# Export to CSV\n",
    "write.csv(df, 'data/leukemia.csv', row.names = F)"
   ]
  }
 ],
 "metadata": {
  "kernelspec": {
   "display_name": "R",
   "language": "R",
   "name": "ir"
  },
  "language_info": {
   "codemirror_mode": "r",
   "file_extension": ".r",
   "mimetype": "text/x-r-source",
   "name": "R",
   "pygments_lexer": "r",
   "version": "4.4.2"
  }
 },
 "nbformat": 4,
 "nbformat_minor": 2
}
